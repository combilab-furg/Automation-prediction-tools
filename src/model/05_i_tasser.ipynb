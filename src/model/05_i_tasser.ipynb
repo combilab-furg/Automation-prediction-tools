{
 "cells": [
  {
   "cell_type": "markdown",
   "metadata": {},
   "source": [
    "# I-Tasser"
   ]
  },
  {
   "cell_type": "markdown",
   "metadata": {},
   "source": [
    "## The following notebook is an attempt to process data by accessing the website via scraping using Selenium. However, the approach that will be used is running locally using the software."
   ]
  },
  {
   "cell_type": "markdown",
   "metadata": {},
   "source": [
    "### Import libraries and load dependencies"
   ]
  },
  {
   "cell_type": "code",
   "execution_count": null,
   "metadata": {},
   "outputs": [],
   "source": [
    "import time  # Import time library for sleep functionality\n",
    "import pandas as pd  # Import pandas library for data manipulation\n",
    "import requests  # Import requests library for making HTTP requests\n",
    "import gzip  # Import gzip library for handling gzip files\n",
    "import os  # Import os library for file and directory operations\n",
    "import shutil  # Import shutil library for file operations\n",
    "\n",
    "from pandarallel import pandarallel  # Import pandarallel for parallel processing with pandas\n",
    "\n",
    "pandarallel.initialize(progress_bar=True)  # Initialize pandarallel with a progress bar\n",
    "from selenium import webdriver  # Import webdriver from selenium for web scraping\n",
    "from selenium.webdriver.common.by import By  # Import By for locating elements\n",
    "from selenium.webdriver.chrome.service import Service  # Import Service for Chrome driver\n",
    "from selenium.webdriver.support.ui import WebDriverWait  # Import WebDriverWait for waiting for elements\n",
    "from selenium.webdriver.support import expected_conditions as EC  # Import expected_conditions for waiting for elements"
   ]
  },
  {
   "cell_type": "markdown",
   "metadata": {},
   "source": [
    "### Define global variables"
   ]
  },
  {
   "cell_type": "code",
   "execution_count": null,
   "metadata": {},
   "outputs": [],
   "source": [
    "CSV_PATH = \"../../data/csv/\"  # Define the path to the CSV files\n",
    "PDB_PATH = \"../../data/pdb/i_tasser/\"  # Define the path to the PDB files\n",
    "FASTA_PATH = '../../data/fasta/variant'  # Define the path to the FASTA files\n",
    "DOWNLOAD_PATH = os.path.expanduser(\"~/Downloads\")  # Define the download path\n",
    "I_TASSER_URL = 'https://zhanglab.comp.nus.edu.sg/I-TASSER/'  # Define the I-TASSER URL\n",
    "\n",
    "EMAIL = \"veri.piva@furg.br\"  # Define the email for I-TASSER login\n",
    "PASSWORD = \"IT_lnu1i\"  # Define the password for I-TASSER login\n",
    "\n",
    "options = webdriver.ChromeOptions()  # Create Chrome options\n",
    "options.add_argument('--headless')  # Run Chrome in headless mode\n",
    "options.add_argument('--no-sandbox')  # Disable sandbox mode\n",
    "options.add_argument('--disable-dev-shm-usage')  # Disable dev/shm usage"
   ]
  },
  {
   "cell_type": "markdown",
   "metadata": {},
   "source": [
    "### Get models"
   ]
  },
  {
   "cell_type": "code",
   "execution_count": null,
   "metadata": {},
   "outputs": [],
   "source": [
    "def check_and_update_status(row):\n",
    "    variant = row[\"variant\"]  # Get the variant from the row\n",
    "    filename = variant.replace('p.', '')  # Replace 'p.' with '' in the variant name\n",
    "    file_path = f\"{PDB_PATH}{filename}.pdb\"  # Define the file path for the PDB file\n",
    "    \n",
    "    if os.path.isfile(file_path):  # Check if the PDB file exists\n",
    "        return 'concluded'  # Return 'concluded' if the file exists\n",
    "\n",
    "    current_status = row.get(\"i_tasser\", \"not_concluded\")  # Get the current status from the row\n",
    "    if current_status != \"not_concluded\":  # Check if the current status is not 'not_concluded'\n",
    "        return current_status  # Return the current status\n",
    "    \n",
    "    return \"not_concluded\"  # Return 'not_concluded' if the file does not exist and the current status is 'not_concluded'\n",
    "\n",
    "def update_i_tasser_status(df):\n",
    "    if 'i_tasser' not in df.columns:  # Check if 'i_tasser' column is not in the DataFrame\n",
    "        df['i_tasser'] = 'not_concluded'  # Add 'i_tasser' column with default value 'not_concluded'\n",
    "    df['i_tasser'] = df.apply(check_and_update_status, axis=1)  # Update 'i_tasser' status for each row\n",
    "    print(\"Status updated based on existing files\")  # Print a status update message\n",
    "    return df  # Return the updated DataFrame\n",
    "\n",
    "def get_fasta(variant):\n",
    "    fasta_file = os.path.join(FASTA_PATH, f'{variant}.fasta')  # Define the path to the FASTA file\n",
    "    if os.path.isfile(fasta_file):  # Check if the FASTA file exists\n",
    "        with open(fasta_file, 'r') as file:  # Open the FASTA file for reading\n",
    "            fasta = file.read()  # Read the FASTA content\n",
    "            return fasta  # Return the FASTA content\n",
    "    else:\n",
    "        print(f'File {fasta_file} does not exist.')  # Print a message if the file does not exist\n",
    "\n",
    "def submit_to_itasser(driver, fasta_content, variant):\n",
    "    driver.get(I_TASSER_URL)  # Open the I-TASSER URL\n",
    "    wait = WebDriverWait(driver, 600)  # Create a WebDriverWait object with a timeout of 600 seconds\n",
    "    fasta_input = wait.until(EC.presence_of_element_located((By.XPATH, '//*[@id=\"form1\"]/textarea')))  # Wait for the FASTA input element to be present\n",
    "    fasta_input = driver.find_element(By.XPATH, '//*[@id=\"form1\"]/textarea')  # Find the FASTA input element\n",
    "    fasta_input.send_keys(fasta_content)  # Enter the FASTA content\n",
    "\n",
    "    email_input = wait.until(EC.presence_of_element_located((By.XPATH,'//*[@id=\"form1\"]/p[2]/input')))  # Wait for the email input element to be present\n",
    "    email_input = driver.find_element(By.XPATH, '//*[@id=\"form1\"]/p[2]/input')  # Find the email input element\n",
    "    email_input.send_keys(EMAIL)  # Enter the email\n",
    "    \n",
    "    id_input = wait.until(EC.presence_of_element_located((By.XPATH, '//*[@id=\"form1\"]/p[3]/input')))  # Wait for the ID input element to be present\n",
    "    id_input = driver.find_element(By.XPATH, '//*[@id=\"form1\"]/p[3]/input')  # Find the ID input element\n",
    "    id_input.send_keys(variant)  # Enter the variant ID\n",
    "\n",
    "    submit_button = wait.until(EC.presence_of_element_located((By.XPATH, '//*[@id=\"form1\"]/p[8]/input[1]')))  # Wait for the submit button to be present\n",
    "    submit_button = driver.find_element(By.XPATH, '//*[@id=\"form1\"]/p[8]/input[1]')  # Find the submit button\n",
    "    submit_button.click()  # Click the submit button\n",
    "\n",
    "    try:\n",
    "        success_message = wait.until(EC.presence_of_element_located((By.XPATH, '/html/body/text()[1][contains(., \"The sequence has been successfully submitted to the I-TASSER server.\")]')))  # Wait for the success message\n",
    "        link_element = driver.find_element(By.XPATH, '/html/body/p/a')  # Find the link element\n",
    "        href_value = link_element.get_attribute('href')  # Get the href attribute of the link element\n",
    "        return href_value  # Return the href value\n",
    "    except:\n",
    "        return \"error\"  # Return \"error\" if an exception occurs\n",
    "\n",
    "def wait_result(driver, result_url, variant):\n",
    "    download_dir = os.path.expanduser(\"~/Downloads\")  # Define the download directory\n",
    "    driver.get(result_url)  # Open the result URL\n",
    "    while True:\n",
    "        try:\n",
    "            element = WebDriverWait(driver, 600).until(\n",
    "                EC.presence_of_element_located((By.XPATH, \"//a[@href='model1.pdb' and @download]\"))\n",
    "            )  # Wait for the PDB file link to be present\n",
    "            break  # Exit the loop if the element is found\n",
    "        except Exception as e:\n",
    "            print(f\"Result not ready yet. Waiting 10 seconds. {e}\")  # Print a message if the result is not ready\n",
    "            time.sleep(10)  # Wait for 10 seconds\n",
    "            \n",
    "    pdb_url = element.get_attribute(\"href\")  # Get the href attribute of the PDB file link\n",
    "    driver.get(pdb_url)  # Open the PDB file URL\n",
    "\n",
    "    time.sleep(10)  # Adjust the sleep time if necessary\n",
    "    pdb_file = os.path.join(download_dir, \"model1.pdb\")  # Define the path to the PDB file\n",
    "    if os.path.exists(pdb_file):  # Check if the PDB file exists\n",
    "        os.makedirs(PDB_PATH, exist_ok=True)  # Create the PDB path if it does not exist\n",
    "        shutil.move(pdb_file, os.path.join(PDB_PATH, f\"{variant}.pdb\"))  # Move the PDB file to the PDB path\n",
    "        print(f\"Moved file: {pdb_file} to {PDB_PATH}\")  # Print a success message\n",
    "        return True  # Return True if the file is moved successfully\n",
    "    else:\n",
    "        print(\"PDB file not found in the download directory.\")  # Print a message if the file is not found\n",
    "        return False  # Return False if the file is not found\n"
   ]
  },
  {
   "cell_type": "code",
   "execution_count": null,
   "metadata": {},
   "outputs": [],
   "source": [
    "variant_df = pd.read_csv(f'{CSV_PATH}fasta_variant.csv', sep=';')  # Read the CSV file into a DataFrame\n",
    "variant_df.head()  # Display the first few rows of the DataFrame\n"
   ]
  },
  {
   "cell_type": "code",
   "execution_count": null,
   "metadata": {},
   "outputs": [
    {
     "name": "stdout",
     "output_type": "stream",
     "text": [
      "Status updated based on existing files\n"
     ]
    },
    {
     "data": {
      "text/plain": [
       "i_tasser\n",
       "not_concluded    383\n",
       "concluded          1\n",
       "Name: count, dtype: int64"
      ]
     },
     "execution_count": 53,
     "metadata": {},
     "output_type": "execute_result"
    }
   ],
   "source": [
    "variant_df = update_i_tasser_status(variant_df)  # Update the i_tasser status in the DataFrame\n",
    "variant_df['i_tasser'].value_counts()  # Count the values in the i_tasser column\n"
   ]
  },
  {
   "cell_type": "code",
   "execution_count": null,
   "metadata": {},
   "outputs": [],
   "source": [
    "variant_df.head()  # Display the first few rows of the DataFrame\n"
   ]
  },
  {
   "cell_type": "code",
   "execution_count": null,
   "metadata": {},
   "outputs": [],
   "source": [
    "variant_df[\"i_tasser\"] = \"not_concluded\"  # Set the i_tasser column to 'not_concluded'\n",
    "variant_df.loc[0, 'i_tasser'] = 'concluded'  # Set the first row to 'concluded'\n",
    "variant_df.loc[1, 'i_tasser'] = 'https://zhanglab.comp.nus.edu.sg/I-TASSER/output/S44/'  # Set the second row to a URL\n",
    "variant_df.head()  # Display the first few rows of the DataFrame"
   ]
  },
  {
   "cell_type": "code",
   "execution_count": null,
   "metadata": {},
   "outputs": [
    {
     "data": {
      "text/html": [
       "<div>\n",
       "<style scoped>\n",
       "    .dataframe tbody tr th:only-of-type {\n",
       "        vertical-align: middle;\n",
       "    }\n",
       "\n",
       "    .dataframe tbody tr th {\n",
       "        vertical-align: top;\n",
       "    }\n",
       "\n",
       "    .dataframe thead th {\n",
       "        text-align: right;\n",
       "    }\n",
       "</style>\n",
       "<table border=\"1\" class=\"dataframe\">\n",
       "  <thead>\n",
       "    <tr style=\"text-align: right;\">\n",
       "      <th></th>\n",
       "      <th>gene</th>\n",
       "      <th>identifier</th>\n",
       "      <th>variant</th>\n",
       "      <th>fasta</th>\n",
       "      <th>swiss_model</th>\n",
       "      <th>phyre2</th>\n",
       "      <th>colab_alphafold2</th>\n",
       "      <th>i_tasser</th>\n",
       "      <th>modeller</th>\n",
       "      <th>roseta</th>\n",
       "      <th>alphafold3</th>\n",
       "    </tr>\n",
       "  </thead>\n",
       "  <tbody>\n",
       "    <tr>\n",
       "      <th>0</th>\n",
       "      <td>atpE</td>\n",
       "      <td>Rv1305</td>\n",
       "      <td>atpE_p.Ala63Pro</td>\n",
       "      <td>MDPTIAAGALIGGGLIMAGGAIGAGIGDGVAGNALISGVARQPEAQ...</td>\n",
       "      <td>concluded</td>\n",
       "      <td>concluded</td>\n",
       "      <td>concluded</td>\n",
       "      <td>concluded</td>\n",
       "      <td>concluded</td>\n",
       "      <td>not_concluded</td>\n",
       "      <td>concluded</td>\n",
       "    </tr>\n",
       "    <tr>\n",
       "      <th>1</th>\n",
       "      <td>atpE</td>\n",
       "      <td>Rv1305</td>\n",
       "      <td>atpE_p.Asp28Ala</td>\n",
       "      <td>MDPTIAAGALIGGGLIMAGGAIGAGIGAGVAGNALISGVARQPEAQ...</td>\n",
       "      <td>concluded</td>\n",
       "      <td>concluded</td>\n",
       "      <td>concluded</td>\n",
       "      <td>https://zhanglab.comp.nus.edu.sg/I-TASSER/outp...</td>\n",
       "      <td>concluded</td>\n",
       "      <td>not_concluded</td>\n",
       "      <td>concluded</td>\n",
       "    </tr>\n",
       "    <tr>\n",
       "      <th>2</th>\n",
       "      <td>atpE</td>\n",
       "      <td>Rv1305</td>\n",
       "      <td>atpE_p.Asp28Gly</td>\n",
       "      <td>MDPTIAAGALIGGGLIMAGGAIGAGIGGGVAGNALISGVARQPEAQ...</td>\n",
       "      <td>concluded</td>\n",
       "      <td>concluded</td>\n",
       "      <td>concluded</td>\n",
       "      <td>not_concluded</td>\n",
       "      <td>concluded</td>\n",
       "      <td>not_concluded</td>\n",
       "      <td>concluded</td>\n",
       "    </tr>\n",
       "    <tr>\n",
       "      <th>3</th>\n",
       "      <td>atpE</td>\n",
       "      <td>Rv1305</td>\n",
       "      <td>atpE_p.Asp28Val</td>\n",
       "      <td>MDPTIAAGALIGGGLIMAGGAIGAGIGVGVAGNALISGVARQPEAQ...</td>\n",
       "      <td>concluded</td>\n",
       "      <td>concluded</td>\n",
       "      <td>concluded</td>\n",
       "      <td>not_concluded</td>\n",
       "      <td>concluded</td>\n",
       "      <td>not_concluded</td>\n",
       "      <td>concluded</td>\n",
       "    </tr>\n",
       "    <tr>\n",
       "      <th>4</th>\n",
       "      <td>atpE</td>\n",
       "      <td>Rv1305</td>\n",
       "      <td>atpE_p.Glu61Asp</td>\n",
       "      <td>MDPTIAAGALIGGGLIMAGGAIGAGIGDGVAGNALISGVARQPEAQ...</td>\n",
       "      <td>concluded</td>\n",
       "      <td>concluded</td>\n",
       "      <td>concluded</td>\n",
       "      <td>not_concluded</td>\n",
       "      <td>concluded</td>\n",
       "      <td>not_concluded</td>\n",
       "      <td>concluded</td>\n",
       "    </tr>\n",
       "  </tbody>\n",
       "</table>\n",
       "</div>"
      ],
      "text/plain": [
       "   gene identifier          variant  \\\n",
       "0  atpE     Rv1305  atpE_p.Ala63Pro   \n",
       "1  atpE     Rv1305  atpE_p.Asp28Ala   \n",
       "2  atpE     Rv1305  atpE_p.Asp28Gly   \n",
       "3  atpE     Rv1305  atpE_p.Asp28Val   \n",
       "4  atpE     Rv1305  atpE_p.Glu61Asp   \n",
       "\n",
       "                                               fasta swiss_model     phyre2  \\\n",
       "0  MDPTIAAGALIGGGLIMAGGAIGAGIGDGVAGNALISGVARQPEAQ...   concluded  concluded   \n",
       "1  MDPTIAAGALIGGGLIMAGGAIGAGIGAGVAGNALISGVARQPEAQ...   concluded  concluded   \n",
       "2  MDPTIAAGALIGGGLIMAGGAIGAGIGGGVAGNALISGVARQPEAQ...   concluded  concluded   \n",
       "3  MDPTIAAGALIGGGLIMAGGAIGAGIGVGVAGNALISGVARQPEAQ...   concluded  concluded   \n",
       "4  MDPTIAAGALIGGGLIMAGGAIGAGIGDGVAGNALISGVARQPEAQ...   concluded  concluded   \n",
       "\n",
       "  colab_alphafold2                                           i_tasser  \\\n",
       "0        concluded                                          concluded   \n",
       "1        concluded  https://zhanglab.comp.nus.edu.sg/I-TASSER/outp...   \n",
       "2        concluded                                      not_concluded   \n",
       "3        concluded                                      not_concluded   \n",
       "4        concluded                                      not_concluded   \n",
       "\n",
       "    modeller         roseta alphafold3  \n",
       "0  concluded  not_concluded  concluded  \n",
       "1  concluded  not_concluded  concluded  \n",
       "2  concluded  not_concluded  concluded  \n",
       "3  concluded  not_concluded  concluded  \n",
       "4  concluded  not_concluded  concluded  "
      ]
     },
     "execution_count": 55,
     "metadata": {},
     "output_type": "execute_result"
    }
   ],
   "source": [
    "driver = webdriver.Chrome(options=options)  # Create a Chrome driver with the specified options\n",
    "\n",
    "filtered_df = variant_df[variant_df['i_tasser'] != 'concluded']  # Filter rows with 'not_concluded' status\n",
    "\n",
    "try:\n",
    "    for i, (index, row) in enumerate(filtered_df.iterrows()):  # Iterate over the rows of the filtered DataFrame\n",
    "        variant = row['variant']  # Get the variant from the row\n",
    "        print(f\"Processing variant {variant} ---------------- {i+1} from {len(filtered_df)}\")  # Print the progress\n",
    "        if row['i_tasser'] == 'not_concluded':  # Check if the status is 'not_concluded'\n",
    "            print(\"Model not processed yet.\")  # Print a message\n",
    "            fasta = get_fasta(variant)  # Get the FASTA content\n",
    "            print(f\"Submitting variant {variant} to I-TASSER\")  # Print a message\n",
    "            id = submit_to_itasser(driver, fasta, variant).split('/')[-2]  # Submit to I-TASSER and get the ID\n",
    "            result_url = f\"https://zhanglab.comp.nus.edu.sg/I-TASSER/output/{id}/\"  # Define the result URL\n",
    "        else:\n",
    "            print(\"Model already submitted to I-TASSER\")  # Print a message\n",
    "            result_url = row['i_tasser']  # Get the result URL from the row\n",
    "        print(f\"Model processing... You can check the current status on {result_url}\")  # Print a message\n",
    "        if wait_result(driver, result_url, variant):  # Wait for the result\n",
    "            print(f\"Model processed successfully for variant {variant}\")  # Print a success message\n",
    "            variant_df.at[index, 'i_tasser'] = f\"concluded\"  # Update the status to 'concluded'\n",
    "            filtered_df.at[index, 'i_tasser'] = f\"concluded\"  # Update the status to 'concluded'\n",
    "except Exception as e:\n",
    "    print(f\"Error processing variants: {e}\")  # Print an error message\n",
    "finally:\n",
    "    driver.quit()  # Quit the driver\n",
    "\n",
    "variant_df['i_tasser'].value_counts()  # Count the values in the i_tasser column"
   ]
  },
  {
   "cell_type": "code",
   "execution_count": null,
   "metadata": {},
   "outputs": [],
   "source": [
    "variant_df.to_csv(f'{CSV_PATH}fasta_variant_2.csv', sep=';', index=False)  # Save the updated DataFrame to CSV"
   ]
  },
  {
   "cell_type": "code",
   "execution_count": null,
   "metadata": {},
   "outputs": [],
   "source": []
  }
 ],
 "metadata": {
  "kernelspec": {
   "display_name": ".venv",
   "language": "python",
   "name": "python3"
  },
  "language_info": {
   "codemirror_mode": {
    "name": "ipython",
    "version": 3
   },
   "file_extension": ".py",
   "mimetype": "text/x-python",
   "name": "python",
   "nbconvert_exporter": "python",
   "pygments_lexer": "ipython3",
   "version": "3.12.5"
  }
 },
 "nbformat": 4,
 "nbformat_minor": 2
}
