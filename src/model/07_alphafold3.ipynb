{
 "cells": [
  {
   "cell_type": "markdown",
   "metadata": {},
   "source": [
    "## AlphaFold3"
   ]
  },
  {
   "cell_type": "markdown",
   "metadata": {},
   "source": [
    "### Combilab-furg AutoFold"
   ]
  },
  {
   "cell_type": "markdown",
   "metadata": {},
   "source": [
    "In order to get the models from AlphaFold3, we used project [Combilab-furg AutoFold](https://github.com/combilab-furg/AutoFold) \n",
    "\n",
    "We run this automation for all our variant sequences (384 variants)."
   ]
  }
 ],
 "metadata": {
  "language_info": {
   "name": "python"
  }
 },
 "nbformat": 4,
 "nbformat_minor": 2
}
