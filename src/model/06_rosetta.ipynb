{
 "cells": [
  {
   "cell_type": "markdown",
   "metadata": {},
   "source": [
    "# Rosetta"
   ]
  },
  {
   "cell_type": "markdown",
   "metadata": {},
   "source": [
    "## The following notebook is an attempt to process data by accessing the website via scraping using Selenium. However, the approach that will be used is running locally using the software."
   ]
  },
  {
   "cell_type": "markdown",
   "metadata": {},
   "source": [
    "### Import libraries and load dependencies"
   ]
  },
  {
   "cell_type": "code",
   "execution_count": null,
   "metadata": {},
   "outputs": [],
   "source": [
    "import time  # Import time library for sleep functionality\n",
    "import pandas as pd  # Import pandas library for data manipulation\n",
    "import requests  # Import requests library for making HTTP requests\n",
    "import gzip  # Import gzip library for handling gzip files\n",
    "import os  # Import os library for file and directory operations\n",
    "import shutil  # Import shutil library for file operations\n",
    "from pandarallel import pandarallel  # Import pandarallel for parallel processing with pandas\n",
    "pandarallel.initialize(progress_bar=True)  # Initialize pandarallel with a progress bar\n",
    "from selenium import webdriver  # Import webdriver from selenium for web scraping\n",
    "from selenium.webdriver.common.by import By  # Import By for locating elements\n",
    "from selenium.webdriver.chrome.service import Service  # Import Service for Chrome driver\n",
    "from selenium.webdriver.support.ui import WebDriverWait  # Import WebDriverWait for waiting for elements\n",
    "from selenium.webdriver.support import expected_conditions as EC  # Import expected_conditions for waiting for elements"
   ]
  },
  {
   "cell_type": "markdown",
   "metadata": {},
   "source": [
    "### Define global variables"
   ]
  },
  {
   "cell_type": "code",
   "execution_count": null,
   "metadata": {},
   "outputs": [],
   "source": [
    "CSV_PATH = \"../../data/csv/\"  # Define the path to the CSV files\n",
    "PDB_PATH = \"../../data/pdb/rosetta/\"  # Define the path to the PDB files\n",
    "FASTA_PATH = '../../data/fasta/variant'  # Define the path to the FASTA files\n",
    "DOWNLOAD_PATH = os.path.expanduser(\"~/Downloads\")  # Define the download path\n",
    "ROSETTA_URL = \"https://yanglab.qd.sdu.edu.cn/trRosetta/\"  # Define the Rosetta URL\n",
    "options = webdriver.ChromeOptions()  # Create Chrome options\n",
    "options.add_argument('--headless')  # Run Chrome in headless mode\n",
    "options.add_argument('--no-sandbox')  # Disable sandbox mode\n",
    "options.add_argument('--disable-dev-shm-usage')  # Disable dev/shm usage"
   ]
  },
  {
   "cell_type": "markdown",
   "metadata": {},
   "source": [
    "### Get models"
   ]
  },
  {
   "cell_type": "code",
   "execution_count": null,
   "metadata": {},
   "outputs": [],
   "source": [
    "def check_and_update_status(row):\n",
    "    variant = row[\"variant\"]  # Get the variant from the row\n",
    "    filename = variant.replace('p.', '')  # Replace 'p.' with '' in the variant name\n",
    "    file_path = f\"{PDB_PATH}{filename}.pdb\"  # Define the file path for the PDB file\n",
    "    \n",
    "    if os.path.isfile(file_path):  # Check if the PDB file exists\n",
    "        return 'concluded'  # Return 'concluded' if the file exists\n",
    "\n",
    "    current_status = row.get(\"rosetta\", \"not_concluded\")  # Get the current status from the row\n",
    "    if current_status != \"not_concluded\":  # Check if the current status is not 'not_concluded'\n",
    "        return current_status  # Return the current status\n",
    "    \n",
    "    return \"not_concluded\"  # Return 'not_concluded' if the file does not exist and the current status is 'not_concluded'\n",
    "\n",
    "def update_rosetta_status(df):\n",
    "    if 'rosetta' not in df.columns:  # Check if 'rosetta' column is not in the DataFrame\n",
    "        df['rosetta'] = 'not_concluded'  # Add 'rosetta' column with default value 'not_concluded'\n",
    "    df['rosetta'] = df.apply(check_and_update_status, axis=1)  # Update 'rosetta' status for each row\n",
    "    print(\"Status updated based on existing files\")  # Print a status update message\n",
    "    return df  # Return the updated DataFrame\n",
    "\n",
    "def get_fasta(variant):\n",
    "    fasta_file = os.path.join(FASTA_PATH, f'{variant}.fasta')  # Define the path to the FASTA file\n",
    "    if os.path.isfile(fasta_file):  # Check if the FASTA file exists\n",
    "        with open(fasta_file, 'r') as file:  # Open the FASTA file for reading\n",
    "            fasta = file.read()  # Read the FASTA content\n",
    "            return fasta  # Return the FASTA content\n",
    "    else:\n",
    "        print(f'File {fasta_file} does not exist.')  # Print a message if the file does not exist\n",
    "\n"
   ]
  },
  {
   "cell_type": "code",
   "execution_count": null,
   "metadata": {},
   "outputs": [],
   "source": [
    "variant_df = pd.read_csv(f'{CSV_PATH}fasta_variant.csv', sep=';')  # Read the CSV file into a DataFrame\n",
    "variant_df.head()  # Display the first few rows of the DataFrame\n"
   ]
  },
  {
   "cell_type": "code",
   "execution_count": null,
   "metadata": {},
   "outputs": [],
   "source": [
    "variant_df = update_rosetta_status(variant_df)  # Update the rosetta status in the DataFrame\n",
    "variant_df['rosetta'].value_counts()  # Count the values in the rosetta column\n"
   ]
  },
  {
   "cell_type": "code",
   "execution_count": null,
   "metadata": {},
   "outputs": [],
   "source": [
    "def submit_to_rosetta(driver, fasta_content, variant):\n",
    "    time.sleep(5)  # Wait for 10 seconds for the job to be submitted\n",
    "    driver.get(ROSETTA_URL)  # Open the Rosetta URL\n",
    "    wait = WebDriverWait(driver, 600)  # Create a WebDriverWait object with a timeout of 600 seconds\n",
    "\n",
    "    fasta_input = wait.until(EC.presence_of_element_located((By.XPATH, '//*[@id=\"PDB\"]')))  # Wait for the FASTA input element to be present\n",
    "    fasta_input.send_keys(fasta_content)  # Enter the FASTA content\n",
    "\n",
    "    infas_radio_button = driver.find_element(By.XPATH, '//*[@id=\"infas\"]')  # Find the radio button\n",
    "    infas_radio_button.click()  # Click the radio button\n",
    "\n",
    "    msa_select = driver.find_element(By.XPATH, '//*[@id=\"form1\"]/select')  # Find the dropdown\n",
    "    msa_select.click()  # Click the dropdown\n",
    "    msa_option = driver.find_element(By.XPATH, '//*[@id=\"msafas\"]')  # Find the option in the dropdown\n",
    "    msa_option.click()  # Click the option\n",
    "\n",
    "    variant_input = driver.find_element(By.XPATH, '//*[@id=\"form1\"]/input[3]')  # Find the variant input element\n",
    "    variant_input.send_keys(variant.replace(\"_p.\", \"_\"))  # Enter the variant name\n",
    "\n",
    "    checkbox1 = driver.find_element(By.XPATH, '//*[@id=\"form1\"]/p[1]/input')  # Find the first checkbox\n",
    "    checkbox1.click()  # Click the first checkbox\n",
    "    checkbox2 = driver.find_element(By.XPATH, '//*[@id=\"form1\"]/p[2]/input')  # Find the second checkbox\n",
    "    checkbox2.click()  # Click the second checkbox\n",
    "\n",
    "    submit_button = driver.find_element(By.XPATH, '//*[@id=\"submit\"]')  # Find the submit button\n",
    "    submit_button.click()  # Click the submit button\n",
    "    time.sleep(5)\n",
    "    try:\n",
    "        result_element = wait.until(EC.presence_of_element_located((By.XPATH, \"/html/body/a\")))  # Wait for the element with the specified XPath to appear\n",
    "        result_url = result_element.get_attribute(\"href\")  # Get the href attribute of the result element\n",
    "        if result_url is \"https://yanglab.qd.sdu.edu.cn/trRosetta\":\n",
    "            print(f\"Error for sequence {fasta_content}, variant {variant}.\")  # Print an error message\n",
    "            return 'not_concluded'\n",
    "        return result_url  # Return the result URL\n",
    "    except Exception as e:\n",
    "        print(f\"Error: {e}\")  # Print the error message\n",
    "        return None\n"
   ]
  },
  {
   "cell_type": "code",
   "execution_count": null,
   "metadata": {},
   "outputs": [],
   "source": [
    "not_concluded_df = variant_df[variant_df['rosetta'] == 'not_concluded']  # Filter rows with 'not_concluded' status\n",
    "not_concluded_df['rosetta'].value_counts()  # Count the values in the filtered rosetta column\n"
   ]
  },
  {
   "cell_type": "markdown",
   "metadata": {},
   "source": [
    "Submit sequence to Rosetta"
   ]
  },
  {
   "cell_type": "code",
   "execution_count": null,
   "metadata": {},
   "outputs": [],
   "source": [
    "driver = webdriver.Chrome(options=options)  # Create a Chrome driver with the specified options\n",
    "# driver = webdriver.Chrome()  # Create a Chrome driver with the specified options\n",
    "try:\n",
    "    for i, (index, row) in enumerate(not_concluded_df.iterrows()):  # Iterate over the rows of the filtered DataFrame\n",
    "        variant = row['variant'].replace(\"_p.\", \"_\")  # Replace '_p.' with '_' in the variant name\n",
    "        print(f\"Processing variant {variant} ---------------- {i+1} from {len(not_concluded_df)} not concluded\")  # Print the progress\n",
    "        fasta = get_fasta(variant)  # Get the FASTA content\n",
    "        print(f\"Submitting variant {variant} to Rosetta\")  # Print a message\n",
    "        url = submit_to_rosetta(driver, fasta, variant)  # Submit to Rosetta and get the URL\n",
    "        variant_df.at[index, 'rosetta'] = str(url)  # Update the URL in the DataFrame\n",
    "        print(f\"URL: {url}\")  # Print the URL\n",
    "except Exception as e:\n",
    "    print(f\"Error processing variants: {e}\")  # Print an error message\n",
    "finally:\n",
    "    driver.quit()  # Quit the driver\n",
    "\n"
   ]
  },
  {
   "cell_type": "code",
   "execution_count": null,
   "metadata": {},
   "outputs": [],
   "source": [
    "variant_df.to_csv(f'{CSV_PATH}fasta_variant.csv', sep=';', index=False)  # Save the updated DataFrame to CSV"
   ]
  },
  {
   "cell_type": "code",
   "execution_count": null,
   "metadata": {},
   "outputs": [],
   "source": [
    "variant_df['rosetta'].nunique()# count how many different values in the rosetta column"
   ]
  },
  {
   "cell_type": "code",
   "execution_count": null,
   "metadata": {},
   "outputs": [],
   "source": [
    "variant_df['rosetta'].value_counts()  # Count the values in the rosetta column\n"
   ]
  },
  {
   "cell_type": "code",
   "execution_count": null,
   "metadata": {},
   "outputs": [],
   "source": [
    "submitted_df = variant_df[variant_df['rosetta'].str.contains('https')]  # Filter rows where 'rosetta' column contains 'https'"
   ]
  },
  {
   "cell_type": "code",
   "execution_count": null,
   "metadata": {},
   "outputs": [],
   "source": [
    "submitted_df.head()"
   ]
  },
  {
   "cell_type": "code",
   "execution_count": null,
   "metadata": {},
   "outputs": [],
   "source": [
    "submitted_df['rosetta'].nunique() # count how many different values in the rosetta column"
   ]
  },
  {
   "cell_type": "code",
   "execution_count": null,
   "metadata": {},
   "outputs": [],
   "source": [
    "submitted_df['rosetta'].value_counts()  # Count the values in the rosetta column\n"
   ]
  },
  {
   "cell_type": "markdown",
   "metadata": {},
   "source": [
    "Submit sequence to Rosetta"
   ]
  },
  {
   "cell_type": "code",
   "execution_count": null,
   "metadata": {},
   "outputs": [],
   "source": [
    "def download_from_rosetta(driver, url, variant):\n",
    "    time.sleep(3)  # Wait for 3 seconds before starting the process\n",
    "    driver.get(url)  # Open the Rosetta URL\n",
    "\n",
    "    try:\n",
    "        # Check if the element with href containing 'model1.pdb' is present\n",
    "        result_element = driver.find_element(By.XPATH, \"//a[contains(@href, 'model1.pdb')]\")\n",
    "        result_url = result_element.get_attribute(\"href\")  # Get the href attribute of the result element\n",
    "        print(f\"download url: {result_url}\")\n",
    "\n",
    "        # Make a request to the download link\n",
    "        response = requests.get(result_url)\n",
    "        response.raise_for_status()  # Raise an exception for HTTP errors\n",
    "\n",
    "        # Save the content of the download to a file\n",
    "        with open(f'{variant}.pdb', 'wb') as file:\n",
    "            file.write(response.content)\n",
    "        \n",
    "        return \"concluded\"  # Return 'concluded' if the file is found and downloaded\n",
    "    except Exception as e:\n",
    "        print(f\"{url} not ready yet\")  # Print the message if the file is not found\n",
    "        return url  # Return the URL if the file is not found\n",
    "\n"
   ]
  },
  {
   "cell_type": "code",
   "execution_count": null,
   "metadata": {},
   "outputs": [],
   "source": [
    "\n",
    "driver = webdriver.Chrome(options=options)  # Create a Chrome driver with the specified options\n",
    "# driver = webdriver.Chrome()  # Create a Chrome driver with the specified options\n",
    "try:\n",
    "    for i, (index, row) in enumerate(submitted_df.iterrows()):  # Iterate over the rows of the filtered DataFrame\n",
    "        variant = row['variant'].replace(\"_p.\", \"_\")  # Replace '_p.' with '_' in the variant name\n",
    "        print(f\"Processing variant {variant} ---------------- {i+1} from {len(not_concluded_df)} not concluded\")  # Print the progress\n",
    "        url = row['rosetta']  \n",
    "        print(f\"URL: {url}\")  # Print the URL\n",
    "        status = download_from_rosetta(driver, url, variant)\n",
    "        variant_df.at[index, 'rosetta'] = status\n",
    "\n",
    "\n",
    "        \n",
    "except Exception as e:\n",
    "    print(f\"Error processing variants: {e}\")  # Print an error message\n",
    "finally:\n",
    "    driver.quit()  # Quit the driver\n"
   ]
  },
  {
   "cell_type": "code",
   "execution_count": null,
   "metadata": {},
   "outputs": [],
   "source": [
    "variant_df.to_csv(f'{CSV_PATH}fasta_variant.csv', sep=';', index=False)  # Save the updated DataFrame to CSV\n"
   ]
  }
 ],
 "metadata": {
  "kernelspec": {
   "display_name": ".venv",
   "language": "python",
   "name": "python3"
  },
  "language_info": {
   "codemirror_mode": {
    "name": "ipython",
    "version": 3
   },
   "file_extension": ".py",
   "mimetype": "text/x-python",
   "name": "python",
   "nbconvert_exporter": "python",
   "pygments_lexer": "ipython3",
   "version": "3.12.5"
  }
 },
 "nbformat": 4,
 "nbformat_minor": 2
}
