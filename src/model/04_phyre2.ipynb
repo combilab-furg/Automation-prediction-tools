{
 "cells": [
  {
   "cell_type": "markdown",
   "metadata": {},
   "source": [
    "### Tutorial: Using Phyre2 for Batch Processing and Extracting PDB Files\n",
    "\n",
    "Phyre2 is a web-based tool for protein structure prediction. This tutorial will guide you through the process of submitting multiple sequences for batch processing, generating zip files of the results, and using a helper function to extract the PDB files.\n",
    "\n",
    "#### Step 1: Log in to Phyre2\n",
    "\n",
    "1. Go to the [Phyre2 website](http://www.sbg.bio.ic.ac.uk/phyre2/html/page.cgi?id=index).\n",
    "2. Log in with your credentials. If you don't have an account, you can create one by following the registration process.\n",
    "\n",
    "#### Step 2: Access Advanced Tools\n",
    "\n",
    "1. After logging in, navigate to the **Advanced Tools** section.\n",
    "2. Select the **Batch Processing** option.\n",
    "\n",
    "#### Step 3: Submit Sequences for Batch Processing\n",
    "\n",
    "1. Prepare your sequences in FASTA format. You can submit up to 100 sequences at a time.\n",
    "2. Use the provided helper script to automate the submission process if you have many sequences to submit.\n",
    "\n",
    "3. Submit the sequences in batches of 100.\n",
    "\n",
    "#### Step 4: Generate Zip Files\n",
    "\n",
    "1. Once the batch processing is complete, an option to generate a zip file will appear.\n",
    "2. Select this option to generate the zip file.\n",
    "3. An email will be sent to you with a link to download the zip file.\n",
    "\n",
    "#### Step 5: Download the Zip File\n",
    "\n",
    "1. Click the link in the email to download the zip file containing the results.\n",
    "\n",
    "#### Step 6: Extract PDB Files Using the Helper Function\n",
    "\n",
    "1. Use the provided helper function to extract the PDB files from the downloaded zip file.\n",
    "\n",
    "2. This function will extract the PDB files from the zip file, rename them according to the gene and variant, and update the CSV file accordingly.\n",
    "\n",
    "By following these steps, you can efficiently process multiple sequences using Phyre2, generate zip files of the results, and extract the PDB files using the provided helper function."
   ]
  }
 ],
 "metadata": {
  "kernelspec": {
   "display_name": ".venv",
   "language": "python",
   "name": "python3"
  },
  "language_info": {
   "codemirror_mode": {
    "name": "ipython",
    "version": 3
   },
   "file_extension": ".py",
   "mimetype": "text/x-python",
   "name": "python",
   "nbconvert_exporter": "python",
   "pygments_lexer": "ipython3",
   "version": "3.12.5"
  }
 },
 "nbformat": 4,
 "nbformat_minor": 2
}
