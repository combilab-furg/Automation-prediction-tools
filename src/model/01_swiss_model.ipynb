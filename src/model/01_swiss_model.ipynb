{
 "cells": [
  {
   "cell_type": "markdown",
   "metadata": {},
   "source": [
    "# Swiss Model"
   ]
  },
  {
   "cell_type": "markdown",
   "metadata": {},
   "source": [
    "### Import libraries and load dependencies"
   ]
  },
  {
   "cell_type": "code",
   "execution_count": null,
   "metadata": {},
   "outputs": [],
   "source": [
    "import time  # Import time library for sleep functionality\n",
    "import pandas as pd  # Import pandas library for data manipulation\n",
    "import requests  # Import requests library for making HTTP requests\n",
    "import gzip  # Import gzip library for handling gzip files\n",
    "import os  # Import os library for file and directory operations\n",
    "\n",
    "from pandarallel import pandarallel  # Import pandarallel for parallel processing with pandas\n",
    "pandarallel.initialize(progress_bar=True)  # Initialize pandarallel with a progress bar"
   ]
  },
  {
   "cell_type": "markdown",
   "metadata": {},
   "source": [
    "### Define global variables"
   ]
  },
  {
   "cell_type": "code",
   "execution_count": null,
   "metadata": {},
   "outputs": [],
   "source": [
    "CSV_PATH = \"../../data/csv/\"  # Define the path to the CSV files\n",
    "PDB_PATH = \"../../data/pdb/swiss_model/\"  # Define the path to the PDB files\n",
    "ONE_MINUTE = 60  # Define one minute in seconds\n",
    "SIX_HOURS = 6 * 60 * 60  # Define six hours in seconds\n",
    "TOKEN = \"e76e1cfea901a4497d7b6007a379939340126b4a\"  # Define the authorization token for the API\n",
    "# TOKEN = \"3292b97d245ba99f1f80ad03ab8de69c8ef909f2\"  # Another token (commented out)"
   ]
  },
  {
   "cell_type": "markdown",
   "metadata": {},
   "source": [
    "### Getting models"
   ]
  },
  {
   "cell_type": "code",
   "execution_count": null,
   "metadata": {},
   "outputs": [],
   "source": [
    "variant_df = pd.read_csv(f'{CSV_PATH}fasta_variant.csv', sep=';')  # Read the CSV file into a DataFrame\n",
    "variant_df.head()  # Display the first few rows of the DataFrame"
   ]
  },
  {
   "cell_type": "markdown",
   "metadata": {},
   "source": [
    "Check and update status:"
   ]
  },
  {
   "cell_type": "code",
   "execution_count": null,
   "metadata": {},
   "outputs": [],
   "source": [
    "def check_and_update_status(row):\n",
    "    variant = row[\"variant\"]  # Get the variant from the row\n",
    "    filename = variant.replace('_p.', '_')  # Replace '_p.' with '_' in the variant name\n",
    "    file_path = f\"{PDB_PATH}{filename}.pdb\"  # Define the file path for the PDB file\n",
    "    if os.path.isfile(file_path):  # Check if the PDB file exists\n",
    "        return 'concluded'  # Return 'concluded' if the file exists\n",
    "    return 'not_concluded'  # Return 'not_concluded' if the file does not exist\n",
    "\n",
    "def update_swiss_model_status(df):\n",
    "    if 'swiss_model' not in df.columns:  # Check if 'swiss_model' column is not in the DataFrame\n",
    "        df['swiss_model'] = 'not_concluded'  # Add 'swiss_model' column with default value 'not_concluded'\n",
    "    df['swiss_model'] = df.apply(check_and_update_status, axis=1)  # Update 'swiss_model' status for each row\n",
    "    df.to_csv(f'{CSV_PATH}fasta_variant.csv', index=False, sep=';')  # Save the updated DataFrame to CSV\n",
    "    print(\"Status updated based on existing files\")  # Print a status update message"
   ]
  },
  {
   "cell_type": "markdown",
   "metadata": {},
   "source": [
    "Get model functions:"
   ]
  },
  {
   "cell_type": "code",
   "execution_count": null,
   "metadata": {},
   "outputs": [],
   "source": [
    "def start_modeling(title, sequence):\n",
    "    response = requests.post(\n",
    "        \"https://swissmodel.expasy.org/automodel\",  # URL for the Swiss Model API\n",
    "        headers={\"Authorization\": f\"Token {TOKEN}\"},  # Authorization header with the token\n",
    "        json={\n",
    "            \"target_sequences\": sequence,  # JSON payload with the target sequences\n",
    "            \"project_title\": title  # Project title\n",
    "        }\n",
    "    )\n",
    "    project_id = response.json().get(\"project_id\")  # Get the project ID from the response\n",
    "    return project_id  # Return the project ID\n",
    "\n",
    "def wait_modeling(project_id):\n",
    "    while True:\n",
    "        response = requests.get(\n",
    "            f\"https://swissmodel.expasy.org/project/{project_id}/models/summary/\",  # URL for the project summary\n",
    "            headers={\"Authorization\": f\"Token {TOKEN}\"}  # Authorization header with the token\n",
    "        )\n",
    "        status = response.json().get(\"status\", \"UNKNOWN\")  # Get the status from the response\n",
    "        if status in [\"COMPLETED\", \"FAILED\"]:  # Check if the status is 'COMPLETED' or 'FAILED'\n",
    "            break  # Exit the loop if modeling is completed or failed\n",
    "        time.sleep(10)  # Wait for 10 seconds before checking the status again\n",
    "    if status == \"COMPLETED\":  # Check if the status is 'COMPLETED'\n",
    "        model = response.json().get(\"models\", [])[0]  # Get the first model from the response\n",
    "        return model  # Return the model\n",
    "    else:\n",
    "        print(\"Modeling failed\\n\")  # Print a failure message\n",
    "        return None  # Return None if modeling failed\n",
    "\n",
    "def download_pdb(title, model):\n",
    "    filename = title.replace('_p.', '_')  # Replace '_p.' with '_' in the title\n",
    "    url = model[\"coordinates_url\"]  # Get the coordinates URL from the model\n",
    "    response = requests.get(url)  # Make a GET request to the coordinates URL\n",
    "    if response.status_code == 200:  # Check if the response status code is 200 (OK)\n",
    "        with open(f'{PDB_PATH}{filename}.pdb.gz', 'wb') as file:  # Open a gzip file for writing\n",
    "            file.write(response.content)  # Write the response content to the gzip file\n",
    "        with gzip.open(f'{PDB_PATH}{filename}.pdb.gz', 'rb') as gz_file:  # Open the gzip file for reading\n",
    "            with open(f'{PDB_PATH}{filename}.pdb', 'wb') as extracted_file:  # Open the extracted PDB file for writing\n",
    "                extracted_file.write(gz_file.read())  # Write the extracted content to the PDB file\n",
    "        os.remove(f'{PDB_PATH}{filename}.pdb.gz')  # Remove the gzip file\n",
    "    else:\n",
    "        print(f\"Failed to download file. Status code: {response.status_code}\")  # Print a failure message with the status code\n",
    "\n",
    "def get_pdb(title, sequence):\n",
    "    project_id = start_modeling(title, sequence)  # Start modeling and get the project ID\n",
    "    model = wait_modeling(project_id)  # Wait for modeling to complete and get the model\n",
    "    return model  # Return the model\n",
    "\n",
    "def process_row(row):\n",
    "    title = row[\"variant\"]  # Get the variant from the row\n",
    "    sequence = [row[\"fasta\"]]  # Get the sequence from the row\n",
    "    model = get_pdb(title, sequence)  # Get the PDB model\n",
    "    download_pdb(title, model)  # Download the PDB file\n",
    "    return True  # Return True to indicate successful processing"
   ]
  },
  {
   "cell_type": "markdown",
   "metadata": {},
   "source": [
    "Run the modelling"
   ]
  },
  {
   "cell_type": "code",
   "execution_count": null,
   "metadata": {},
   "outputs": [],
   "source": [
    "update_swiss_model_status(variant_df)  # Update the Swiss model status in the DataFrame\n",
    "not_concluded_df = variant_df[variant_df['swiss_model'] == 'not_concluded']  # Filter rows with 'not_concluded' status\n",
    "print(\"Starting modeling...\")  # Print a starting message\n",
    "results = not_concluded_df.parallel_apply(process_row, axis=1)  # Apply the process_row function in parallel\n",
    "variant_df.loc[not_concluded_df.index, 'swiss_model'] = results.apply(lambda x: 'concluded' if x else 'not_concluded')  # Update the status based on results\n",
    "print(\"Successfully modeled\")  # Print a success message"
   ]
  }
 ],
 "metadata": {
  "kernelspec": {
   "display_name": ".venv",
   "language": "python",
   "name": "python3"
  },
  "language_info": {
   "codemirror_mode": {
    "name": "ipython",
    "version": 3
   },
   "file_extension": ".py",
   "mimetype": "text/x-python",
   "name": "python",
   "nbconvert_exporter": "python",
   "pygments_lexer": "ipython3",
   "version": "3.12.5"
  }
 },
 "nbformat": 4,
 "nbformat_minor": 2
}
