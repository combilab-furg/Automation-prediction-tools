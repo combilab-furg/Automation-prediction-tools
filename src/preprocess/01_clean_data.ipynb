{
 "cells": [
  {
   "cell_type": "markdown",
   "metadata": {},
   "source": [
    "# Clean Data"
   ]
  },
  {
   "cell_type": "markdown",
   "metadata": {},
   "source": [
    "### Import libraries and install dependencies:"
   ]
  },
  {
   "cell_type": "code",
   "execution_count": 23,
   "metadata": {},
   "outputs": [],
   "source": [
    "import pandas as pd"
   ]
  },
  {
   "cell_type": "markdown",
   "metadata": {},
   "source": [
    "### Defining global variables"
   ]
  },
  {
   "cell_type": "code",
   "execution_count": null,
   "metadata": {},
   "outputs": [],
   "source": [
    "CSV_PATH = \"../../data/csv/\"  # Path to CSV files"
   ]
  },
  {
   "cell_type": "markdown",
   "metadata": {},
   "source": [
    "### Load datasets:"
   ]
  },
  {
   "cell_type": "code",
   "execution_count": null,
   "metadata": {},
   "outputs": [
    {
     "name": "stderr",
     "output_type": "stream",
     "text": [
      "/var/folders/s_/t2rm0jw50q3fp6d0b4hg6yfw0000gn/T/ipykernel_8433/2601023530.py:1: DtypeWarning: Columns (36,37,99,100,102,103,106,108,112) have mixed types. Specify dtype option on import or set low_memory=False.\n",
      "  data_df = pd.read_csv(f'{CSV_PATH}complete_dataset.csv', sep=';')\n"
     ]
    }
   ],
   "source": [
    "data_df = pd.read_csv(f'{CSV_PATH}complete_dataset.csv', sep=';') # Load the complete dataset\n",
    "identifier_df = pd.read_csv(f'{CSV_PATH}gene_identifier.csv', sep=';') # Load the gene identifier"
   ]
  },
  {
   "cell_type": "markdown",
   "metadata": {},
   "source": [
    "### Preprocessing datasets:"
   ]
  },
  {
   "cell_type": "code",
   "execution_count": 66,
   "metadata": {},
   "outputs": [
    {
     "data": {
      "text/html": [
       "<div>\n",
       "<style scoped>\n",
       "    .dataframe tbody tr th:only-of-type {\n",
       "        vertical-align: middle;\n",
       "    }\n",
       "\n",
       "    .dataframe tbody tr th {\n",
       "        vertical-align: top;\n",
       "    }\n",
       "\n",
       "    .dataframe thead th {\n",
       "        text-align: right;\n",
       "    }\n",
       "</style>\n",
       "<table border=\"1\" class=\"dataframe\">\n",
       "  <thead>\n",
       "    <tr style=\"text-align: right;\">\n",
       "      <th></th>\n",
       "      <th>drug</th>\n",
       "      <th>gene</th>\n",
       "      <th>mutation</th>\n",
       "      <th>variant</th>\n",
       "      <th>tier</th>\n",
       "      <th>effect</th>\n",
       "      <th>genomic position</th>\n",
       "      <th>algorithm_pass</th>\n",
       "      <th>Present_SOLO_SR</th>\n",
       "      <th>Present_SOLO_R</th>\n",
       "      <th>...</th>\n",
       "      <th>Additional grading criteria applied</th>\n",
       "      <th>FINAL CONFIDENCE GRADING</th>\n",
       "      <th>Comment</th>\n",
       "      <th>CHANGES vs ver1</th>\n",
       "      <th>Relaxed thresholds simulation (BDQ_Rv0678, CFZ_Rv0678, INH_katG, DLM_ddn/fbiA/fbiB/fbiC/fgd1/Rv2983)</th>\n",
       "      <th>Silent mutation</th>\n",
       "      <th>Listed in abridged tables</th>\n",
       "      <th>Additional grading</th>\n",
       "      <th>Footnote</th>\n",
       "      <th>CHANGES vs ver1.1</th>\n",
       "    </tr>\n",
       "  </thead>\n",
       "  <tbody>\n",
       "    <tr>\n",
       "      <th>0</th>\n",
       "      <td>Amikacin</td>\n",
       "      <td>bacA</td>\n",
       "      <td>c.102G&gt;A</td>\n",
       "      <td>bacA_c.102G&gt;A</td>\n",
       "      <td>2</td>\n",
       "      <td>synonymous_variant</td>\n",
       "      <td>(see \"Genomic_coordinates\" sheet)</td>\n",
       "      <td>NaN</td>\n",
       "      <td>NaN</td>\n",
       "      <td>NaN</td>\n",
       "      <td>...</td>\n",
       "      <td>Silent mutation</td>\n",
       "      <td>4) Not assoc w R - Interim</td>\n",
       "      <td>NaN</td>\n",
       "      <td>Now listed</td>\n",
       "      <td>NaN</td>\n",
       "      <td>Silent mutation</td>\n",
       "      <td>no</td>\n",
       "      <td>NaN</td>\n",
       "      <td>NaN</td>\n",
       "      <td>0</td>\n",
       "    </tr>\n",
       "    <tr>\n",
       "      <th>1</th>\n",
       "      <td>Amikacin</td>\n",
       "      <td>bacA</td>\n",
       "      <td>c.1044G&gt;A</td>\n",
       "      <td>bacA_c.1044G&gt;A</td>\n",
       "      <td>2</td>\n",
       "      <td>synonymous_variant</td>\n",
       "      <td>(see \"Genomic_coordinates\" sheet)</td>\n",
       "      <td>NaN</td>\n",
       "      <td>NaN</td>\n",
       "      <td>NaN</td>\n",
       "      <td>...</td>\n",
       "      <td>NaN</td>\n",
       "      <td>5) Not assoc w R</td>\n",
       "      <td>NaN</td>\n",
       "      <td>Now listed</td>\n",
       "      <td>NaN</td>\n",
       "      <td>Silent mutation</td>\n",
       "      <td>no</td>\n",
       "      <td>NaN</td>\n",
       "      <td>NaN</td>\n",
       "      <td>0</td>\n",
       "    </tr>\n",
       "    <tr>\n",
       "      <th>2</th>\n",
       "      <td>Amikacin</td>\n",
       "      <td>bacA</td>\n",
       "      <td>c.105C&gt;G</td>\n",
       "      <td>bacA_c.105C&gt;G</td>\n",
       "      <td>2</td>\n",
       "      <td>synonymous_variant</td>\n",
       "      <td>(see \"Genomic_coordinates\" sheet)</td>\n",
       "      <td>NaN</td>\n",
       "      <td>NaN</td>\n",
       "      <td>NaN</td>\n",
       "      <td>...</td>\n",
       "      <td>Silent mutation</td>\n",
       "      <td>4) Not assoc w R - Interim</td>\n",
       "      <td>NaN</td>\n",
       "      <td>Now listed</td>\n",
       "      <td>NaN</td>\n",
       "      <td>Silent mutation</td>\n",
       "      <td>no</td>\n",
       "      <td>NaN</td>\n",
       "      <td>NaN</td>\n",
       "      <td>0</td>\n",
       "    </tr>\n",
       "    <tr>\n",
       "      <th>3</th>\n",
       "      <td>Amikacin</td>\n",
       "      <td>bacA</td>\n",
       "      <td>c.1065T&gt;G</td>\n",
       "      <td>bacA_c.1065T&gt;G</td>\n",
       "      <td>2</td>\n",
       "      <td>synonymous_variant</td>\n",
       "      <td>(see \"Genomic_coordinates\" sheet)</td>\n",
       "      <td>NaN</td>\n",
       "      <td>NaN</td>\n",
       "      <td>NaN</td>\n",
       "      <td>...</td>\n",
       "      <td>Silent mutation</td>\n",
       "      <td>4) Not assoc w R - Interim</td>\n",
       "      <td>NaN</td>\n",
       "      <td>Now listed</td>\n",
       "      <td>NaN</td>\n",
       "      <td>Silent mutation</td>\n",
       "      <td>no</td>\n",
       "      <td>NaN</td>\n",
       "      <td>NaN</td>\n",
       "      <td>0</td>\n",
       "    </tr>\n",
       "    <tr>\n",
       "      <th>4</th>\n",
       "      <td>Amikacin</td>\n",
       "      <td>bacA</td>\n",
       "      <td>c.1080G&gt;A</td>\n",
       "      <td>bacA_c.1080G&gt;A</td>\n",
       "      <td>2</td>\n",
       "      <td>synonymous_variant</td>\n",
       "      <td>(see \"Genomic_coordinates\" sheet)</td>\n",
       "      <td>NaN</td>\n",
       "      <td>NaN</td>\n",
       "      <td>NaN</td>\n",
       "      <td>...</td>\n",
       "      <td>Silent mutation</td>\n",
       "      <td>4) Not assoc w R - Interim</td>\n",
       "      <td>NaN</td>\n",
       "      <td>Now listed</td>\n",
       "      <td>NaN</td>\n",
       "      <td>Silent mutation</td>\n",
       "      <td>no</td>\n",
       "      <td>NaN</td>\n",
       "      <td>NaN</td>\n",
       "      <td>0</td>\n",
       "    </tr>\n",
       "  </tbody>\n",
       "</table>\n",
       "<p>5 rows × 114 columns</p>\n",
       "</div>"
      ],
      "text/plain": [
       "       drug  gene   mutation         variant  tier              effect  \\\n",
       "0  Amikacin  bacA   c.102G>A   bacA_c.102G>A     2  synonymous_variant   \n",
       "1  Amikacin  bacA  c.1044G>A  bacA_c.1044G>A     2  synonymous_variant   \n",
       "2  Amikacin  bacA   c.105C>G   bacA_c.105C>G     2  synonymous_variant   \n",
       "3  Amikacin  bacA  c.1065T>G  bacA_c.1065T>G     2  synonymous_variant   \n",
       "4  Amikacin  bacA  c.1080G>A  bacA_c.1080G>A     2  synonymous_variant   \n",
       "\n",
       "                    genomic position  algorithm_pass  Present_SOLO_SR  \\\n",
       "0  (see \"Genomic_coordinates\" sheet)             NaN              NaN   \n",
       "1  (see \"Genomic_coordinates\" sheet)             NaN              NaN   \n",
       "2  (see \"Genomic_coordinates\" sheet)             NaN              NaN   \n",
       "3  (see \"Genomic_coordinates\" sheet)             NaN              NaN   \n",
       "4  (see \"Genomic_coordinates\" sheet)             NaN              NaN   \n",
       "\n",
       "   Present_SOLO_R  ...  Additional grading criteria applied  \\\n",
       "0             NaN  ...                      Silent mutation   \n",
       "1             NaN  ...                                  NaN   \n",
       "2             NaN  ...                      Silent mutation   \n",
       "3             NaN  ...                      Silent mutation   \n",
       "4             NaN  ...                      Silent mutation   \n",
       "\n",
       "     FINAL CONFIDENCE GRADING  Comment  CHANGES vs ver1  \\\n",
       "0  4) Not assoc w R - Interim      NaN       Now listed   \n",
       "1            5) Not assoc w R      NaN       Now listed   \n",
       "2  4) Not assoc w R - Interim      NaN       Now listed   \n",
       "3  4) Not assoc w R - Interim      NaN       Now listed   \n",
       "4  4) Not assoc w R - Interim      NaN       Now listed   \n",
       "\n",
       "   Relaxed thresholds simulation (BDQ_Rv0678, CFZ_Rv0678, INH_katG, DLM_ddn/fbiA/fbiB/fbiC/fgd1/Rv2983)  \\\n",
       "0                                                NaN                                                      \n",
       "1                                                NaN                                                      \n",
       "2                                                NaN                                                      \n",
       "3                                                NaN                                                      \n",
       "4                                                NaN                                                      \n",
       "\n",
       "   Silent mutation Listed in abridged tables Additional grading Footnote  \\\n",
       "0  Silent mutation                        no                NaN      NaN   \n",
       "1  Silent mutation                        no                NaN      NaN   \n",
       "2  Silent mutation                        no                NaN      NaN   \n",
       "3  Silent mutation                        no                NaN      NaN   \n",
       "4  Silent mutation                        no                NaN      NaN   \n",
       "\n",
       "  CHANGES vs ver1.1  \n",
       "0                 0  \n",
       "1                 0  \n",
       "2                 0  \n",
       "3                 0  \n",
       "4                 0  \n",
       "\n",
       "[5 rows x 114 columns]"
      ]
     },
     "execution_count": 15,
     "metadata": {},
     "output_type": "execute_result"
    }
   ],
   "source": [
    "data_df.head()  # Display the first few rows of the dataset"
   ]
  },
  {
   "cell_type": "code",
   "execution_count": 67,
   "metadata": {},
   "outputs": [
    {
     "name": "stdout",
     "output_type": "stream",
     "text": [
      "Dataset shape: (48152, 114)\n",
      "Rows: 48152\n",
      "Columns: 114\n"
     ]
    }
   ],
   "source": [
    "print(f\"Dataset shape: {data_df.shape}\")  # Print the shape of the dataset\n",
    "print(f\"Rows: {data_df.shape[0]}\")  # Print the number of rows\n",
    "print(f\"Columns: {data_df.shape[1]}\")  # Print the number of columns"
   ]
  },
  {
   "cell_type": "markdown",
   "metadata": {},
   "source": [
    "Filter wanted columns:\n",
    "- gene\n",
    "- variant\n",
    "- effect\n",
    "- FINAL CONFIDENCE GRADING"
   ]
  },
  {
   "cell_type": "code",
   "execution_count": 68,
   "metadata": {},
   "outputs": [],
   "source": [
    "columns = ['gene', 'variant', 'effect', 'FINAL CONFIDENCE GRADING']  # Define the columns to keep\n",
    "data_df = data_df[columns]  # Filter the dataset to keep only the wanted columns"
   ]
  },
  {
   "cell_type": "code",
   "execution_count": 69,
   "metadata": {},
   "outputs": [
    {
     "data": {
      "text/html": [
       "<div>\n",
       "<style scoped>\n",
       "    .dataframe tbody tr th:only-of-type {\n",
       "        vertical-align: middle;\n",
       "    }\n",
       "\n",
       "    .dataframe tbody tr th {\n",
       "        vertical-align: top;\n",
       "    }\n",
       "\n",
       "    .dataframe thead th {\n",
       "        text-align: right;\n",
       "    }\n",
       "</style>\n",
       "<table border=\"1\" class=\"dataframe\">\n",
       "  <thead>\n",
       "    <tr style=\"text-align: right;\">\n",
       "      <th></th>\n",
       "      <th>gene</th>\n",
       "      <th>variant</th>\n",
       "      <th>effect</th>\n",
       "      <th>FINAL CONFIDENCE GRADING</th>\n",
       "    </tr>\n",
       "  </thead>\n",
       "  <tbody>\n",
       "    <tr>\n",
       "      <th>0</th>\n",
       "      <td>bacA</td>\n",
       "      <td>bacA_c.102G&gt;A</td>\n",
       "      <td>synonymous_variant</td>\n",
       "      <td>4) Not assoc w R - Interim</td>\n",
       "    </tr>\n",
       "    <tr>\n",
       "      <th>1</th>\n",
       "      <td>bacA</td>\n",
       "      <td>bacA_c.1044G&gt;A</td>\n",
       "      <td>synonymous_variant</td>\n",
       "      <td>5) Not assoc w R</td>\n",
       "    </tr>\n",
       "    <tr>\n",
       "      <th>2</th>\n",
       "      <td>bacA</td>\n",
       "      <td>bacA_c.105C&gt;G</td>\n",
       "      <td>synonymous_variant</td>\n",
       "      <td>4) Not assoc w R - Interim</td>\n",
       "    </tr>\n",
       "    <tr>\n",
       "      <th>3</th>\n",
       "      <td>bacA</td>\n",
       "      <td>bacA_c.1065T&gt;G</td>\n",
       "      <td>synonymous_variant</td>\n",
       "      <td>4) Not assoc w R - Interim</td>\n",
       "    </tr>\n",
       "    <tr>\n",
       "      <th>4</th>\n",
       "      <td>bacA</td>\n",
       "      <td>bacA_c.1080G&gt;A</td>\n",
       "      <td>synonymous_variant</td>\n",
       "      <td>4) Not assoc w R - Interim</td>\n",
       "    </tr>\n",
       "  </tbody>\n",
       "</table>\n",
       "</div>"
      ],
      "text/plain": [
       "   gene         variant              effect    FINAL CONFIDENCE GRADING\n",
       "0  bacA   bacA_c.102G>A  synonymous_variant  4) Not assoc w R - Interim\n",
       "1  bacA  bacA_c.1044G>A  synonymous_variant            5) Not assoc w R\n",
       "2  bacA   bacA_c.105C>G  synonymous_variant  4) Not assoc w R - Interim\n",
       "3  bacA  bacA_c.1065T>G  synonymous_variant  4) Not assoc w R - Interim\n",
       "4  bacA  bacA_c.1080G>A  synonymous_variant  4) Not assoc w R - Interim"
      ]
     },
     "execution_count": 19,
     "metadata": {},
     "output_type": "execute_result"
    }
   ],
   "source": [
    "data_df.head()  # Display the first few rows of the filtered dataset"
   ]
  },
  {
   "cell_type": "code",
   "execution_count": 70,
   "metadata": {},
   "outputs": [
    {
     "data": {
      "text/html": [
       "<div>\n",
       "<style scoped>\n",
       "    .dataframe tbody tr th:only-of-type {\n",
       "        vertical-align: middle;\n",
       "    }\n",
       "\n",
       "    .dataframe tbody tr th {\n",
       "        vertical-align: top;\n",
       "    }\n",
       "\n",
       "    .dataframe thead th {\n",
       "        text-align: right;\n",
       "    }\n",
       "</style>\n",
       "<table border=\"1\" class=\"dataframe\">\n",
       "  <thead>\n",
       "    <tr style=\"text-align: right;\">\n",
       "      <th></th>\n",
       "      <th>gene</th>\n",
       "      <th>variant</th>\n",
       "      <th>effect</th>\n",
       "      <th>FINAL CONFIDENCE GRADING</th>\n",
       "    </tr>\n",
       "  </thead>\n",
       "  <tbody>\n",
       "    <tr>\n",
       "      <th>count</th>\n",
       "      <td>48152</td>\n",
       "      <td>48152</td>\n",
       "      <td>48152</td>\n",
       "      <td>48152</td>\n",
       "    </tr>\n",
       "    <tr>\n",
       "      <th>unique</th>\n",
       "      <td>65</td>\n",
       "      <td>30699</td>\n",
       "      <td>14</td>\n",
       "      <td>5</td>\n",
       "    </tr>\n",
       "    <tr>\n",
       "      <th>top</th>\n",
       "      <td>Rv2752c</td>\n",
       "      <td>Rv2477c_p.Glu476Ala</td>\n",
       "      <td>missense_variant</td>\n",
       "      <td>3) Uncertain significance</td>\n",
       "    </tr>\n",
       "    <tr>\n",
       "      <th>freq</th>\n",
       "      <td>3974</td>\n",
       "      <td>7</td>\n",
       "      <td>23065</td>\n",
       "      <td>33906</td>\n",
       "    </tr>\n",
       "  </tbody>\n",
       "</table>\n",
       "</div>"
      ],
      "text/plain": [
       "           gene              variant            effect  \\\n",
       "count     48152                48152             48152   \n",
       "unique       65                30699                14   \n",
       "top     Rv2752c  Rv2477c_p.Glu476Ala  missense_variant   \n",
       "freq       3974                    7             23065   \n",
       "\n",
       "         FINAL CONFIDENCE GRADING  \n",
       "count                       48152  \n",
       "unique                          5  \n",
       "top     3) Uncertain significance  \n",
       "freq                        33906  "
      ]
     },
     "execution_count": 20,
     "metadata": {},
     "output_type": "execute_result"
    }
   ],
   "source": [
    "data_df.describe()  # Display summary statistics of the filtered dataset"
   ]
  },
  {
   "cell_type": "markdown",
   "metadata": {},
   "source": [
    "Merge identifiers dataframe with data"
   ]
  },
  {
   "cell_type": "code",
   "execution_count": 71,
   "metadata": {},
   "outputs": [
    {
     "data": {
      "text/html": [
       "<div>\n",
       "<style scoped>\n",
       "    .dataframe tbody tr th:only-of-type {\n",
       "        vertical-align: middle;\n",
       "    }\n",
       "\n",
       "    .dataframe tbody tr th {\n",
       "        vertical-align: top;\n",
       "    }\n",
       "\n",
       "    .dataframe thead th {\n",
       "        text-align: right;\n",
       "    }\n",
       "</style>\n",
       "<table border=\"1\" class=\"dataframe\">\n",
       "  <thead>\n",
       "    <tr style=\"text-align: right;\">\n",
       "      <th></th>\n",
       "      <th>gene</th>\n",
       "      <th>variant</th>\n",
       "      <th>effect</th>\n",
       "      <th>FINAL CONFIDENCE GRADING</th>\n",
       "      <th>identifier</th>\n",
       "    </tr>\n",
       "  </thead>\n",
       "  <tbody>\n",
       "    <tr>\n",
       "      <th>0</th>\n",
       "      <td>bacA</td>\n",
       "      <td>bacA_c.102G&gt;A</td>\n",
       "      <td>synonymous_variant</td>\n",
       "      <td>4) Not assoc w R - Interim</td>\n",
       "      <td>Rv1819c</td>\n",
       "    </tr>\n",
       "    <tr>\n",
       "      <th>1</th>\n",
       "      <td>bacA</td>\n",
       "      <td>bacA_c.1044G&gt;A</td>\n",
       "      <td>synonymous_variant</td>\n",
       "      <td>5) Not assoc w R</td>\n",
       "      <td>Rv1819c</td>\n",
       "    </tr>\n",
       "    <tr>\n",
       "      <th>2</th>\n",
       "      <td>bacA</td>\n",
       "      <td>bacA_c.105C&gt;G</td>\n",
       "      <td>synonymous_variant</td>\n",
       "      <td>4) Not assoc w R - Interim</td>\n",
       "      <td>Rv1819c</td>\n",
       "    </tr>\n",
       "    <tr>\n",
       "      <th>3</th>\n",
       "      <td>bacA</td>\n",
       "      <td>bacA_c.1065T&gt;G</td>\n",
       "      <td>synonymous_variant</td>\n",
       "      <td>4) Not assoc w R - Interim</td>\n",
       "      <td>Rv1819c</td>\n",
       "    </tr>\n",
       "    <tr>\n",
       "      <th>4</th>\n",
       "      <td>bacA</td>\n",
       "      <td>bacA_c.1080G&gt;A</td>\n",
       "      <td>synonymous_variant</td>\n",
       "      <td>4) Not assoc w R - Interim</td>\n",
       "      <td>Rv1819c</td>\n",
       "    </tr>\n",
       "  </tbody>\n",
       "</table>\n",
       "</div>"
      ],
      "text/plain": [
       "   gene         variant              effect    FINAL CONFIDENCE GRADING  \\\n",
       "0  bacA   bacA_c.102G>A  synonymous_variant  4) Not assoc w R - Interim   \n",
       "1  bacA  bacA_c.1044G>A  synonymous_variant            5) Not assoc w R   \n",
       "2  bacA   bacA_c.105C>G  synonymous_variant  4) Not assoc w R - Interim   \n",
       "3  bacA  bacA_c.1065T>G  synonymous_variant  4) Not assoc w R - Interim   \n",
       "4  bacA  bacA_c.1080G>A  synonymous_variant  4) Not assoc w R - Interim   \n",
       "\n",
       "  identifier  \n",
       "0    Rv1819c  \n",
       "1    Rv1819c  \n",
       "2    Rv1819c  \n",
       "3    Rv1819c  \n",
       "4    Rv1819c  "
      ]
     },
     "execution_count": 21,
     "metadata": {},
     "output_type": "execute_result"
    }
   ],
   "source": [
    "data_df = data_df.merge(identifier_df, on='gene', how='inner')  # Merge the dataframes on the 'gene' column\n",
    "data_df.head()  # Display the first few rows of the merged dataset"
   ]
  },
  {
   "cell_type": "code",
   "execution_count": 72,
   "metadata": {},
   "outputs": [
    {
     "name": "stdout",
     "output_type": "stream",
     "text": [
      "Dataset shape: (48152, 5)\n",
      "Rows: 48152\n",
      "Columns: 5\n"
     ]
    }
   ],
   "source": [
    "print(f\"Dataset shape: {data_df.shape}\")  # Print the shape of the merged dataset\n",
    "print(f\"Rows: {data_df.shape[0]}\")  # Print the number of rows in the merged dataset\n",
    "print(f\"Columns: {data_df.shape[1]}\")  # Print the number of columns in the merged dataset"
   ]
  },
  {
   "cell_type": "code",
   "execution_count": 73,
   "metadata": {},
   "outputs": [
    {
     "data": {
      "text/html": [
       "<div>\n",
       "<style scoped>\n",
       "    .dataframe tbody tr th:only-of-type {\n",
       "        vertical-align: middle;\n",
       "    }\n",
       "\n",
       "    .dataframe tbody tr th {\n",
       "        vertical-align: top;\n",
       "    }\n",
       "\n",
       "    .dataframe thead th {\n",
       "        text-align: right;\n",
       "    }\n",
       "</style>\n",
       "<table border=\"1\" class=\"dataframe\">\n",
       "  <thead>\n",
       "    <tr style=\"text-align: right;\">\n",
       "      <th></th>\n",
       "      <th>gene</th>\n",
       "      <th>variant</th>\n",
       "      <th>effect</th>\n",
       "      <th>FINAL CONFIDENCE GRADING</th>\n",
       "      <th>identifier</th>\n",
       "    </tr>\n",
       "  </thead>\n",
       "  <tbody>\n",
       "    <tr>\n",
       "      <th>count</th>\n",
       "      <td>48152</td>\n",
       "      <td>48152</td>\n",
       "      <td>48152</td>\n",
       "      <td>48152</td>\n",
       "      <td>48152</td>\n",
       "    </tr>\n",
       "    <tr>\n",
       "      <th>unique</th>\n",
       "      <td>65</td>\n",
       "      <td>30699</td>\n",
       "      <td>14</td>\n",
       "      <td>5</td>\n",
       "      <td>65</td>\n",
       "    </tr>\n",
       "    <tr>\n",
       "      <th>top</th>\n",
       "      <td>Rv2752c</td>\n",
       "      <td>Rv2477c_p.Glu476Ala</td>\n",
       "      <td>missense_variant</td>\n",
       "      <td>3) Uncertain significance</td>\n",
       "      <td>Rv2752c</td>\n",
       "    </tr>\n",
       "    <tr>\n",
       "      <th>freq</th>\n",
       "      <td>3974</td>\n",
       "      <td>7</td>\n",
       "      <td>23065</td>\n",
       "      <td>33906</td>\n",
       "      <td>3974</td>\n",
       "    </tr>\n",
       "  </tbody>\n",
       "</table>\n",
       "</div>"
      ],
      "text/plain": [
       "           gene              variant            effect  \\\n",
       "count     48152                48152             48152   \n",
       "unique       65                30699                14   \n",
       "top     Rv2752c  Rv2477c_p.Glu476Ala  missense_variant   \n",
       "freq       3974                    7             23065   \n",
       "\n",
       "         FINAL CONFIDENCE GRADING identifier  \n",
       "count                       48152      48152  \n",
       "unique                          5         65  \n",
       "top     3) Uncertain significance    Rv2752c  \n",
       "freq                        33906       3974  "
      ]
     },
     "execution_count": 23,
     "metadata": {},
     "output_type": "execute_result"
    }
   ],
   "source": [
    "data_df.describe()  # Display summary statistics of the merged dataset"
   ]
  },
  {
   "cell_type": "code",
   "execution_count": 74,
   "metadata": {},
   "outputs": [],
   "source": [
    "data_df.describe()  # Display summary statistics of the merged dataset\n"
   ]
  },
  {
   "cell_type": "markdown",
   "metadata": {},
   "source": [
    "Create dataset for all wild types"
   ]
  },
  {
   "cell_type": "code",
   "execution_count": 81,
   "metadata": {},
   "outputs": [],
   "source": [
    "complete_wild_df = data_df[['gene', 'identifier']].copy()  # Create a copy of the 'gene' and 'identifier' columns\n",
    "complete_wild_df = complete_wild_df.drop_duplicates(subset='gene')  # Drop duplicate rows based on the 'gene' column\n",
    "complete_wild_df['mycobrowser_url'] = 'https://mycobrowser.epfl.ch/genes/' + complete_wild_df['identifier']  # Add a new column with URLs\n",
    "complete_wild_df.head()  # Display the first few rows of the complete wild dataset\n"
   ]
  },
  {
   "cell_type": "code",
   "execution_count": 82,
   "metadata": {},
   "outputs": [],
   "source": [
    "print(f\"Dataset shape: {complete_wild_df.shape}\")  # Print the shape of the complete wild dataset\n",
    "print(f\"Rows: {complete_wild_df.shape[0]}\")  # Print the number of rows in the complete wild dataset\n",
    "print(f\"Columns: {complete_wild_df.shape[1]}\")  # Print the number of columns in the complete wild dataset"
   ]
  },
  {
   "cell_type": "code",
   "execution_count": 83,
   "metadata": {},
   "outputs": [],
   "source": [
    "print(f\"Dataset shape: {complete_wild_df.shape}\")\n",
    "print(f\"Rows: {complete_wild_df.shape[0]}\")\n",
    "print(f\"Columns: {complete_wild_df.shape[1]}\")"
   ]
  },
  {
   "cell_type": "code",
   "execution_count": 84,
   "metadata": {},
   "outputs": [],
   "source": [
    "complete_wild_df.describe()  # Display summary statistics of the complete wild dataset"
   ]
  },
  {
   "cell_type": "markdown",
   "metadata": {},
   "source": [
    "Creating dataset for all variants"
   ]
  },
  {
   "cell_type": "code",
   "execution_count": 85,
   "metadata": {},
   "outputs": [],
   "source": [
    "complete_variant_df = data_df[['gene', 'identifier', 'variant', 'effect', 'FINAL CONFIDENCE GRADING']].copy()  # Create a copy of the relevant columns\n",
    "complete_wild_df = complete_wild_df.drop_duplicates()  # Drop duplicate rows\n",
    "complete_variant_df = complete_variant_df.rename(columns={'FINAL CONFIDENCE GRADING': 'final_confidence_grading'})  # Rename a column\n",
    "complete_variant_df.head()  # Display the first few rows of the complete variant dataset"
   ]
  },
  {
   "cell_type": "code",
   "execution_count": 86,
   "metadata": {},
   "outputs": [],
   "source": [
    "complete_variant_df.head()"
   ]
  },
  {
   "cell_type": "code",
   "execution_count": 87,
   "metadata": {},
   "outputs": [],
   "source": [
    "print(f\"Dataset shape: {complete_variant_df.shape}\")  # Print the shape of the complete variant dataset\n",
    "print(f\"Rows: {complete_variant_df.shape[0]}\")  # Print the number of rows in the complete variant dataset\n",
    "print(f\"Columns: {complete_variant_df.shape[1]}\")  # Print the number of columns in the complete variant dataset"
   ]
  },
  {
   "cell_type": "code",
   "execution_count": 88,
   "metadata": {},
   "outputs": [],
   "source": [
    "complete_variant_df.describe()  # Display summary statistics of the complete variant dataset"
   ]
  },
  {
   "cell_type": "markdown",
   "metadata": {},
   "source": [
    "Analyse columns:"
   ]
  },
  {
   "cell_type": "code",
   "execution_count": 89,
   "metadata": {},
   "outputs": [],
   "source": [
    "print(f\"Unique genes: {data_df['gene'].unique()}\")  # Print unique genes\n",
    "print(f\"Unique final confidence: {data_df['FINAL CONFIDENCE GRADING'].unique()}\")  # Print unique final confidence gradings\n",
    "print(f\"Unique effect: {data_df['effect'].unique()}\")  # Print unique effects"
   ]
  },
  {
   "cell_type": "code",
   "execution_count": 90,
   "metadata": {},
   "outputs": [],
   "source": [
    "print(f\"Unique final confidence: {data_df['FINAL CONFIDENCE GRADING'].unique()}\")"
   ]
  },
  {
   "cell_type": "code",
   "execution_count": 91,
   "metadata": {},
   "outputs": [],
   "source": [
    "print(f\"Unique effect: {data_df['effect'].unique()}\")"
   ]
  },
  {
   "cell_type": "markdown",
   "metadata": {},
   "source": [
    "Filter Values:\n",
    "- effect = `missense_variant`\n",
    "- FINAL CONFIDENCE GRADING = `1) Assoc w R` or `2) Assoc w R - Interim`"
   ]
  },
  {
   "cell_type": "code",
   "execution_count": 92,
   "metadata": {},
   "outputs": [],
   "source": [
    "data_df = data_df[(data_df['effect'] == 'missense_variant') & (data_df['FINAL CONFIDENCE GRADING'].isin(['2) Assoc w R - Interim', '1) Assoc w R']))]  # Filter the dataset based on specific conditions"
   ]
  },
  {
   "cell_type": "markdown",
   "metadata": {},
   "source": [
    "Analyse new dataset"
   ]
  },
  {
   "cell_type": "code",
   "execution_count": 93,
   "metadata": {},
   "outputs": [],
   "source": [
    "data_df.head()  # Display the first few rows of the filtered dataset"
   ]
  },
  {
   "cell_type": "code",
   "execution_count": 94,
   "metadata": {},
   "outputs": [],
   "source": [
    "print(f\"Dataset shape: {data_df.shape}\")  # Print the shape of the filtered dataset\n",
    "print(f\"Rows: {data_df.shape[0]}\")  # Print the number of rows in the filtered dataset\n",
    "print(f\"Columns: {data_df.shape[1]}\")  # Print the number of columns in the filtered dataset"
   ]
  },
  {
   "cell_type": "code",
   "execution_count": 95,
   "metadata": {},
   "outputs": [],
   "source": [
    "data_df.describe()  # Display summary statistics of the filtered dataset"
   ]
  },
  {
   "cell_type": "code",
   "execution_count": 96,
   "metadata": {},
   "outputs": [],
   "source": [
    "duplicated_variant = data_df[data_df.duplicated(subset=['variant'], keep=False)]  # Identify duplicated variants\n",
    "duplicated_variant  # Display duplicated variants"
   ]
  },
  {
   "cell_type": "markdown",
   "metadata": {},
   "source": [
    "Removing duplicated variant:"
   ]
  },
  {
   "cell_type": "code",
   "execution_count": 97,
   "metadata": {},
   "outputs": [],
   "source": [
    "data_df = data_df.drop_duplicates(subset=['variant'])  # Remove duplicated variants"
   ]
  },
  {
   "cell_type": "markdown",
   "metadata": {},
   "source": [
    "Analyse new dataset after removing duplicates"
   ]
  },
  {
   "cell_type": "code",
   "execution_count": 98,
   "metadata": {},
   "outputs": [],
   "source": [
    "data_df.head()  # Display the first few rows of the dataset after removing duplicates"
   ]
  },
  {
   "cell_type": "code",
   "execution_count": 99,
   "metadata": {},
   "outputs": [],
   "source": [
    "print(f\"Dataset shape: {data_df.shape}\")  # Print the shape of the dataset after removing duplicates\n",
    "print(f\"Rows: {data_df.shape[0]}\")  # Print the number of rows in the dataset after removing duplicates\n",
    "print(f\"Columns: {data_df.shape[1]}\")  # Print the number of columns in the dataset after removing duplicates"
   ]
  },
  {
   "cell_type": "code",
   "execution_count": 100,
   "metadata": {},
   "outputs": [],
   "source": [
    "data_df.describe()  # Display summary statistics of the dataset after removing duplicates"
   ]
  },
  {
   "cell_type": "code",
   "execution_count": 101,
   "metadata": {},
   "outputs": [],
   "source": [
    "print(f\"Unique genes: {data_df['gene'].unique()}\")  # Print unique genes in the dataset after removing duplicates"
   ]
  },
  {
   "cell_type": "markdown",
   "metadata": {},
   "source": [
    "Create dataset for filtered wild type"
   ]
  },
  {
   "cell_type": "code",
   "execution_count": 102,
   "metadata": {},
   "outputs": [],
   "source": [
    "wild_df = data_df[['gene', 'identifier']].copy()  # Create a copy of the 'gene' and 'identifier' columns\n",
    "wild_df = wild_df.drop_duplicates(subset='gene')  # Drop duplicate rows based on the 'gene' column\n",
    "wild_df['mycobrowser_url'] = 'https://mycobrowser.epfl.ch/genes/' + wild_df['identifier']  # Add a new column with URLs\n",
    "wild_df.head()  # Display the first few rows of the filtered wild dataset"
   ]
  },
  {
   "cell_type": "code",
   "execution_count": 103,
   "metadata": {},
   "outputs": [],
   "source": [
    "wild_df.head()"
   ]
  },
  {
   "cell_type": "code",
   "execution_count": 104,
   "metadata": {},
   "outputs": [],
   "source": [
    "print(f\"Dataset shape: {wild_df.shape}\")  # Print the shape of the filtered wild dataset\n",
    "print(f\"Rows: {wild_df.shape[0]}\")  # Print the number of rows in the filtered wild dataset\n",
    "print(f\"Columns: {wild_df.shape[1]}\")  # Print the number of columns in the filtered wild dataset"
   ]
  },
  {
   "cell_type": "code",
   "execution_count": 105,
   "metadata": {},
   "outputs": [],
   "source": [
    "wild_df.describe()  # Display summary statistics of the filtered wild dataset"
   ]
  },
  {
   "cell_type": "markdown",
   "metadata": {},
   "source": [
    "Creating dataset for variant type:"
   ]
  },
  {
   "cell_type": "code",
   "execution_count": 106,
   "metadata": {},
   "outputs": [],
   "source": [
    "variant_df = data_df[['gene', 'identifier', 'variant']].copy()  # Create a copy of the relevant columns"
   ]
  },
  {
   "cell_type": "markdown",
   "metadata": {},
   "source": [
    "### Save datasets"
   ]
  },
  {
   "cell_type": "code",
   "execution_count": 109,
   "metadata": {},
   "outputs": [],
   "source": [
    "wild_df.to_csv(f'{CSV_PATH}wild.csv', sep=';', index=False)  # Save the filtered wild dataset to a CSV file\n",
    "variant_df.to_csv(f'{CSV_PATH}variant.csv', sep=';', index=False)  # Save the variant dataset to a CSV file\n",
    "complete_wild_df.to_csv(f'{CSV_PATH}complete_wild.csv', sep=';', index=False)  # Save the complete wild dataset to a CSV file\n",
    "complete_variant_df.to_csv(f'{CSV_PATH}complete_variant.csv', sep=';', index=False)  # Save the complete variant dataset to a CSV file"
   ]
  },
  {
   "cell_type": "code",
   "execution_count": null,
   "metadata": {},
   "outputs": [],
   "source": []
  }
 ],
 "metadata": {
  "kernelspec": {
   "display_name": ".venv",
   "language": "python",
   "name": "python3"
  },
  "language_info": {
   "codemirror_mode": {
    "name": "ipython",
    "version": 3
   },
   "file_extension": ".py",
   "mimetype": "text/x-python",
   "name": "python",
   "nbconvert_exporter": "python",
   "pygments_lexer": "ipython3",
   "version": "3.12.5"
  }
 },
 "nbformat": 4,
 "nbformat_minor": 2
}
