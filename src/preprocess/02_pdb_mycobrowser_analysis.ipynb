{
 "cells": [
  {
   "cell_type": "markdown",
   "metadata": {},
   "source": [
    "# PDB Mycobrowser analysis"
   ]
  },
  {
   "cell_type": "markdown",
   "metadata": {},
   "source": [
    "### Import libraries and load dependencies:"
   ]
  },
  {
   "cell_type": "code",
   "execution_count": null,
   "metadata": {},
   "outputs": [],
   "source": [
    "import pandas as pd  # Import pandas for data manipulation\n",
    "\n",
    "from selenium import webdriver  # Import webdriver for browser automation\n",
    "from selenium.webdriver.common.by import By  # Import By for locating elements\n",
    "from selenium.webdriver.chrome.service import Service  # Import Service for Chrome driver\n",
    "from selenium.webdriver.support.ui import WebDriverWait  # Import WebDriverWait for waiting for elements\n",
    "from selenium.webdriver.support import expected_conditions as EC  # Import expected_conditions for waiting for conditions\n",
    "\n",
    "options = webdriver.ChromeOptions()  # Initialize Chrome options\n",
    "options.add_argument('--headless')  # Run Chrome in headless mode\n",
    "options.add_argument('--no-sandbox')  # Disable the sandbox for Chrome\n",
    "options.add_argument('--disable-dev-shm-usage')  # Disable the /dev/shm usage for Chrome\n",
    "\n",
    "driver = webdriver.Chrome(options=options)  # Create a new instance of the Chrome driver with the specified options\n"
   ]
  },
  {
   "cell_type": "markdown",
   "metadata": {},
   "source": [
    "### Define global variables"
   ]
  },
  {
   "cell_type": "code",
   "execution_count": null,
   "metadata": {},
   "outputs": [],
   "source": [
    "CSV_PATH = \"../../data/csv/\"  # Path to CSV files"
   ]
  },
  {
   "cell_type": "markdown",
   "metadata": {},
   "source": [
    "### Load dataset"
   ]
  },
  {
   "cell_type": "code",
   "execution_count": null,
   "metadata": {},
   "outputs": [],
   "source": [
    "wild_df = pd.read_csv(f'{CSV_PATH}complete_wild.csv', sep=';')  # Load complete wild dataset\n"
   ]
  },
  {
   "cell_type": "markdown",
   "metadata": {},
   "source": [
    "### Getting PDB information from Mycobrowser url"
   ]
  },
  {
   "cell_type": "code",
   "execution_count": null,
   "metadata": {},
   "outputs": [],
   "source": [
    "wild_df.head()  # Display the first few rows of the dataset\n"
   ]
  },
  {
   "cell_type": "code",
   "execution_count": null,
   "metadata": {},
   "outputs": [],
   "source": [
    "print(f\"Dataset shape: {wild_df.shape}\")  # Print the shape of the dataset\n",
    "print(f\"Rows: {wild_df.shape[0]}\")  # Print the number of rows\n",
    "print(f\"Columns: {wild_df.shape[1]}\")  # Print the number of columns\n"
   ]
  },
  {
   "cell_type": "code",
   "execution_count": null,
   "metadata": {},
   "outputs": [],
   "source": [
    "wild_df.describe()  # Display summary statistics of the dataset\n"
   ]
  },
  {
   "cell_type": "markdown",
   "metadata": {},
   "source": [
    "Function to fetch PDB URL from MycoBrowser and save into a file"
   ]
  },
  {
   "cell_type": "code",
   "execution_count": null,
   "metadata": {},
   "outputs": [],
   "source": [
    "def wait_column_menu(driver):\n",
    "    column_xpath = '//*[@id=\"main\"]/div[5]/div[1]'  # XPath for the column menu\n",
    "    WebDriverWait(driver, 10).until(\n",
    "        EC.presence_of_element_located((By.XPATH, column_xpath))  # Wait until the column menu is present\n",
    "    )"
   ]
  },
  {
   "cell_type": "code",
   "execution_count": null,
   "metadata": {},
   "outputs": [],
   "source": [
    "def find_structural_information(driver):\n",
    "    structural_information_xpath = \"//div[@class='panel-heading' and contains(text(), 'Structural information')]\"  # XPath for structural information\n",
    "    elements = driver.find_elements(By.XPATH, structural_information_xpath)  # Find elements matching the XPath\n",
    "    return elements[0] if elements else None  # Return the first element if found, otherwise return None\n"
   ]
  },
  {
   "cell_type": "code",
   "execution_count": null,
   "metadata": {},
   "outputs": [],
   "source": [
    "def find_pdb_information(structural_information):\n",
    "    parent_div = structural_information.find_element(By.XPATH, \"..\")  # Find the parent div of the structural information\n",
    "    pdb_information_xpath = \".//tr[td[contains(text(), 'Protein Data Bank')]]\"  # XPath for PDB information\n",
    "    elements = parent_div.find_elements(By.XPATH, pdb_information_xpath)  # Find elements matching the XPath\n",
    "    return elements[0] if elements else None  # Return the first element if found, otherwise return None\n"
   ]
  },
  {
   "cell_type": "code",
   "execution_count": null,
   "metadata": {},
   "outputs": [],
   "source": [
    "def find_pdb_links(pdb_information):\n",
    "    links = pdb_information.find_elements(By.XPATH, \".//td[2]//a\")  # Find links within the PDB information\n",
    "    return links if links else None  # Return the links if found, otherwise return None"
   ]
  },
  {
   "cell_type": "code",
   "execution_count": null,
   "metadata": {},
   "outputs": [],
   "source": [
    "def get_pdb_info(driver):\n",
    "    wait_column_menu(driver)  # Wait for the column menu to be present\n",
    "    structural_information = find_structural_information(driver)  # Find structural information\n",
    "    if not structural_information:\n",
    "        return \"No structural information found\"  # Return message if no structural information is found\n",
    "    else:\n",
    "        pdb_information = find_pdb_information(structural_information)  # Find PDB information\n",
    "        if not pdb_information:\n",
    "            return \"No PDB information found\"  # Return message if no PDB information is found\n",
    "        else:\n",
    "            links = find_pdb_links(pdb_information)  # Find PDB links\n",
    "            if links:\n",
    "                return \"PDB information found\"  # Return message if PDB links are found\n",
    "            else:\n",
    "                return \"No url found.\"  # Return message if no PDB links are found"
   ]
  },
  {
   "cell_type": "markdown",
   "metadata": {},
   "source": [
    "Process each gene in the dataset"
   ]
  },
  {
   "cell_type": "code",
   "execution_count": null,
   "metadata": {},
   "outputs": [],
   "source": [
    "pdb_table = []  # Initialize an empty list to store PDB information\n",
    "for index, row in wild_df.iterrows():\n",
    "    print(f\"Processing genes... ({index+1} from {wild_df.shape[0]})\")  # Print progress\n",
    "    gene = row[\"gene\"]  # Get the gene name\n",
    "    url = row[\"mycobrowser_url\"]  # Get the MycoBrowser URL\n",
    "    try:\n",
    "        driver.get(url)  # Navigate to the URL\n",
    "        pdb_info = get_pdb_info(driver)  # Get PDB information\n",
    "        pdb_table.append(\n",
    "            {\n",
    "                \"gene\": gene,  # Add gene name to the dictionary\n",
    "                \"mycobrowser_URL\": url,  # Add MycoBrowser URL to the dictionary\n",
    "                \"has_PDB_info\": pdb_info,  # Add PDB information status to the dictionary\n",
    "            }\n",
    "        )\n",
    "    except Exception as e:\n",
    "        print(f\"Error processing gene {gene}: {e}\")  # Print error message if an exception occurs\n"
   ]
  },
  {
   "cell_type": "markdown",
   "metadata": {},
   "source": [
    "Create a DataFrame from the PDB information"
   ]
  },
  {
   "cell_type": "code",
   "execution_count": null,
   "metadata": {},
   "outputs": [],
   "source": [
    "pdb_df = pd.DataFrame(pdb_table)  # Convert the list of dictionaries to a DataFrame\n",
    "pdb_df.head()  # Display the first few rows of the PDB DataFrame\n"
   ]
  },
  {
   "cell_type": "code",
   "execution_count": null,
   "metadata": {},
   "outputs": [],
   "source": [
    "pdb_df.describe()  # Display summary statistics of the PDB DataFrame\n"
   ]
  },
  {
   "cell_type": "code",
   "execution_count": null,
   "metadata": {},
   "outputs": [],
   "source": [
    "pdb_df[\"has_PDB_info\"].value_counts()  # Count the occurrences of each PDB information status\n"
   ]
  },
  {
   "cell_type": "markdown",
   "metadata": {},
   "source": [
    "Save the PDB information to a CSV file\n"
   ]
  },
  {
   "cell_type": "code",
   "execution_count": null,
   "metadata": {},
   "outputs": [],
   "source": [
    "pdb_df.to_csv(f\"{CSV_PATH}complete_wild_pdb_mycobrowser.csv\", index=False, sep=';')  # Save the DataFrame to a CSV file"
   ]
  },
  {
   "cell_type": "code",
   "execution_count": null,
   "metadata": {},
   "outputs": [],
   "source": []
  }
 ],
 "metadata": {
  "kernelspec": {
   "display_name": ".venv",
   "language": "python",
   "name": "python3"
  },
  "language_info": {
   "codemirror_mode": {
    "name": "ipython",
    "version": 3
   },
   "file_extension": ".py",
   "mimetype": "text/x-python",
   "name": "python",
   "nbconvert_exporter": "python",
   "pygments_lexer": "ipython3",
   "version": "3.12.5"
  }
 },
 "nbformat": 4,
 "nbformat_minor": 2
}
