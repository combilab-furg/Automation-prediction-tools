{
 "cells": [
  {
   "cell_type": "markdown",
   "metadata": {},
   "source": [
    "# FASTA Sequences"
   ]
  },
  {
   "cell_type": "markdown",
   "metadata": {},
   "source": [
    "### Import libraries and load dependencies:"
   ]
  },
  {
   "cell_type": "code",
   "execution_count": null,
   "metadata": {},
   "outputs": [],
   "source": [
    "import requests  # Library for sending HTTP requests to fetch data from URLs.\n",
    "import pandas as pd  # Library for data manipulation and analysis.\n",
    "from bs4 import BeautifulSoup  # Library for parsing HTML and XML documents.\n"
   ]
  },
  {
   "cell_type": "markdown",
   "metadata": {},
   "source": [
    "### Define global variables"
   ]
  },
  {
   "cell_type": "code",
   "execution_count": null,
   "metadata": {},
   "outputs": [],
   "source": [
    "CSV_PATH = \"../../data/csv/\"  # Path to the folder containing CSV files.\n",
    "FASTA_PATH = \"../../data/fasta/\"  # Path to the folder for storing FASTA files.\n",
    "WILD_FASTA_PATH = f\"{FASTA_PATH}wild\"  # Path for wild-type FASTA files.\n",
    "COMPLETE_WILD_FASTA_PATH = f\"{FASTA_PATH}complete_wild\"  # Path for complete wild FASTA files.\n",
    "VARIANT_FASTA_PATH = f\"{FASTA_PATH}variant\"  # Path for variant FASTA files.\n",
    "AMINO_ACIDS = {  # Dictionary mapping single-letter amino acid codes to their full names.\n",
    "    'A': 'Ala',\n",
    "    'C': 'Cys',\n",
    "    'D': 'Asp',\n",
    "    'E': 'Glu',\n",
    "    'F': 'Phe',\n",
    "    'G': 'Gly',\n",
    "    'H': 'His',\n",
    "    'I': 'Ile',\n",
    "    'K': 'Lys',\n",
    "    'L': 'Leu',\n",
    "    'M': 'Met',\n",
    "    'N': 'Asn',\n",
    "    'P': 'Pro',\n",
    "    'Q': 'Gln',\n",
    "    'R': 'Arg',\n",
    "    'S': 'Ser',\n",
    "    'T': 'Thr',\n",
    "    'V': 'Val',\n",
    "    'W': 'Trp',\n",
    "    'Y': 'Tyr',\n",
    "}\n",
    "AMINO_ACIDS_REVERSE = {value: key for key, value in AMINO_ACIDS.items()}  # Reverse dictionary for mapping full names to single-letter codes.\n"
   ]
  },
  {
   "cell_type": "markdown",
   "metadata": {},
   "source": [
    "### Load datasets:"
   ]
  },
  {
   "cell_type": "code",
   "execution_count": null,
   "metadata": {},
   "outputs": [],
   "source": [
    "wild_df = pd.read_csv(f'{CSV_PATH}wild.csv', sep=';')  # Load wild-type dataset from CSV file.\n",
    "complete_wild_df = pd.read_csv(f'{CSV_PATH}complete_wild.csv', sep=';')  # Load complete wild dataset from CSV file.\n",
    "variant_df = pd.read_csv(f'{CSV_PATH}variant.csv', sep=';')  # Load variant dataset from CSV file."
   ]
  },
  {
   "cell_type": "markdown",
   "metadata": {},
   "source": [
    "### Function to fetch wild FASTA sequence from MycoBrowser and save into a file"
   ]
  },
  {
   "cell_type": "code",
   "execution_count": null,
   "metadata": {},
   "outputs": [],
   "source": [
    "def save_fasta_sequence_wild(df, path):\n",
    "    # Iterate through each row in the DataFrame.\n",
    "    for index, row in df.iterrows():\n",
    "        print(f\"Saving FASTA sequence... ({index+1} from {df.shape[0]})\")  # Log progress.\n",
    "        gene = row[\"gene\"]  # Extract gene name from the current row.\n",
    "        url = row[\"mycobrowser_url\"]  # Extract Mycobrowser URL.\n",
    "        response = requests.get(url)  # Send GET request to fetch HTML content.\n",
    "        if response.status_code == 200:  # Check if the request was successful.\n",
    "            soup = BeautifulSoup(response.text, 'html.parser')  # Parse HTML content.\n",
    "            fasta_section = soup.find_all('pre')  # Find all <pre> tags, which may contain FASTA sequences.\n",
    "            if fasta_section:  # Check if any <pre> tags were found.\n",
    "                for section in fasta_section:\n",
    "                    if \"Mycobacterium tuberculosis H37Rv|\" in section.text:  # Ensure the section contains the correct FASTA sequence.\n",
    "                        fasta_sequence = section.text.strip()  # Get the FASTA sequence and remove extra spaces.\n",
    "                        filename = f'{path}/{gene}.fasta'  # Create the file path for saving the sequence.\n",
    "                        with open(filename, 'w') as f:  # Open the file in write mode.\n",
    "                            f.write(fasta_sequence)  # Write the FASTA sequence to the file.\n",
    "                        fasta_sequence = fasta_sequence.split(\"\\n\")[1]  # Extract only the sequence part (ignoring the header).\n",
    "                        df.loc[index, \"fasta\"] = fasta_sequence  # Add the sequence to the DataFrame.\n",
    "            else:\n",
    "                print(f\"FASTA sequence not available\")  # Log if no FASTA section was found.\n",
    "        else:\n",
    "            print(f\"Gene information not found\")  # Log if the request failed.\n"
   ]
  },
  {
   "cell_type": "markdown",
   "metadata": {},
   "source": [
    "### Getting FASTA sequence from Mycobrowser url for all wild type"
   ]
  },
  {
   "cell_type": "code",
   "execution_count": null,
   "metadata": {},
   "outputs": [],
   "source": [
    "save_fasta_sequence_wild(complete_wild_df, COMPLETE_WILD_FASTA_PATH)  # Fetch and save FASTA sequences for complete wild types."
   ]
  },
  {
   "cell_type": "code",
   "execution_count": null,
   "metadata": {},
   "outputs": [],
   "source": [
    "print(complete_wild_df[complete_wild_df[\"fasta\"].isnull()]) # Log genes without FASTA sequences due to their rRNA type. "
   ]
  },
  {
   "cell_type": "markdown",
   "metadata": {},
   "source": [
    "PS: There are two genes that don't have a FASTA sequence, because they are of rRNA type: `rrs` and `rrl`. So we will remove them."
   ]
  },
  {
   "cell_type": "code",
   "execution_count": null,
   "metadata": {},
   "outputs": [],
   "source": [
    "# Remove rows for `rrs` and `rrl` genes that lack FASTA sequences.\n",
    "complete_wild_df = complete_wild_df[complete_wild_df.gene != \"rrs\"]\n",
    "complete_wild_df = complete_wild_df[complete_wild_df.gene != \"rrl\"]\n",
    "complete_wild_df.head()  # Display the first few rows of the DataFrame.\n"
   ]
  },
  {
   "cell_type": "code",
   "execution_count": null,
   "metadata": {},
   "outputs": [],
   "source": [
    "print(f\"Dataset shape: {complete_wild_df.shape}\")  # Print the dataset's shape.\n",
    "print(f\"Rows: {complete_wild_df.shape[0]}\")  # Print the number of rows.\n",
    "print(f\"Columns: {complete_wild_df.shape[1]}\")  # Print the number of columns.\n"
   ]
  },
  {
   "cell_type": "code",
   "execution_count": null,
   "metadata": {},
   "outputs": [],
   "source": [
    "complete_wild_df.describe()  # Display summary statistics."
   ]
  },
  {
   "cell_type": "code",
   "execution_count": null,
   "metadata": {},
   "outputs": [],
   "source": [
    "complete_wild_df.to_csv(f\"{CSV_PATH}fasta_complete_wild.csv\", index=False, sep=';') # Save the updated DataFrame with FASTA sequences to a CSV file."
   ]
  },
  {
   "cell_type": "markdown",
   "metadata": {},
   "source": [
    "### Getting FASTA sequence from Mycobrowser url for filtered wild type"
   ]
  },
  {
   "cell_type": "code",
   "execution_count": null,
   "metadata": {},
   "outputs": [],
   "source": [
    "save_fasta_sequence_wild(wild_df, WILD_FASTA_PATH)  # Fetch and save FASTA sequences for filtered wild types.\n",
    "wild_df.head()  # Display the first few rows of the DataFrame.\n"
   ]
  },
  {
   "cell_type": "code",
   "execution_count": null,
   "metadata": {},
   "outputs": [],
   "source": [
    "print(f\"Dataset shape: {wild_df.shape}\")  # Print the dataset's shape.\n",
    "print(f\"Rows: {wild_df.shape[0]}\")  # Print the number of rows.\n",
    "print(f\"Columns: {wild_df.shape[1]}\")  # Print the number of columns.\n"
   ]
  },
  {
   "cell_type": "code",
   "execution_count": null,
   "metadata": {},
   "outputs": [],
   "source": [
    "wild_df.describe()  # Display summary statistics."
   ]
  },
  {
   "cell_type": "code",
   "execution_count": null,
   "metadata": {},
   "outputs": [],
   "source": [
    "wild_df.to_csv(f\"{CSV_PATH}fasta_wild.csv\", index=False, sep=';') # Save the updated DataFrame with FASTA sequences to a CSV file.\n"
   ]
  },
  {
   "cell_type": "markdown",
   "metadata": {},
   "source": [
    "### Getting FASTA sequence for mutations"
   ]
  },
  {
   "cell_type": "code",
   "execution_count": null,
   "metadata": {},
   "outputs": [],
   "source": [
    "variant_df.head()  # Display the first few rows of the DataFrame.\n"
   ]
  },
  {
   "cell_type": "code",
   "execution_count": null,
   "metadata": {},
   "outputs": [],
   "source": [
    "print(f\"Dataset shape: {variant_df.shape}\")  # Print the dataset's shape.\n",
    "print(f\"Rows: {variant_df.shape[0]}\")  # Print the number of rows.\n",
    "print(f\"Columns: {variant_df.shape[1]}\")  # Print the number of columns.\n"
   ]
  },
  {
   "cell_type": "code",
   "execution_count": null,
   "metadata": {},
   "outputs": [],
   "source": [
    "variant_df.describe()  # Display summary statistics.\n"
   ]
  },
  {
   "cell_type": "code",
   "execution_count": null,
   "metadata": {},
   "outputs": [],
   "source": [
    "# Function to mutate a FASTA sequence based on a given mutation.\n",
    "def get_fasta_mutation(fasta_selvagem, mutation):\n",
    "    position = int(mutation[3:-3])  # Extract the position of the mutation.\n",
    "    amino_acid = fasta_selvagem[position-1]  # Get the original amino acid at the position.\n",
    "    if mutation[:3] != AMINO_ACIDS[amino_acid]:  # Check if the amino acid matches the expected value.\n",
    "        print(f\"Error converting fasta sequence\")  # Log an error if the amino acid does not match.\n",
    "        return \"ERROR: amino-acid is not the same as expected\"  # Return an error message.\n",
    "    fasta_mutated = list(fasta_selvagem)  # Convert the FASTA sequence to a list for mutation.\n",
    "    fasta_mutated[position-1] = AMINO_ACIDS_REVERSE[mutation[-3:]]  # Replace the amino acid at the position.\n",
    "    fasta_mutated = ''.join(fasta_mutated)  # Convert the mutated list back to a string.\n",
    "    return fasta_mutated  # Return the mutated FASTA sequence.\n"
   ]
  },
  {
   "cell_type": "code",
   "execution_count": null,
   "metadata": {},
   "outputs": [],
   "source": [
    "# Function to fetch and save FASTA sequences for variants.\n",
    "def save_fasta_sequence_variant(df, path):\n",
    "    for index, row in df.iterrows():\n",
    "        print(f\"Saving FASTA sequence... ({index+1} from {df.shape[0]})\")  # Log progress.\n",
    "        wild_row = wild_df[wild_df['gene'] == row['gene']]  # Find the corresponding wild type row.\n",
    "        if wild_row.empty:  # Check if the wild type gene is not found.\n",
    "            print(f\"Gene {row['gene']} not found in wild_df\")  # Log a warning.\n",
    "            continue  # Skip to the next row.\n",
    "        wild_fasta = wild_row['fasta'].values[0]  # Get the FASTA sequence for the wild type.\n",
    "        variant = row['variant'].split('.')[1]  # Extract the mutation from the variant column.\n",
    "        mutated_fasta = get_fasta_mutation(wild_fasta, variant)  # Generate the mutated FASTA sequence.\n",
    "        df.at[index, 'fasta'] = mutated_fasta  # Add the mutated sequence to the DataFrame.\n",
    "        identifier = row['identifier']  # Get the variant identifier.\n",
    "        fasta_content = f\">Mycobacterium tuberculosis H37Rv|{identifier}|{variant}\\n{mutated_fasta}\"  # Create the FASTA header and sequence.\n",
    "        with open(f\"{path}/{row['variant']}.fasta\", \"w\") as f:  # Open the file in write mode.\n",
    "            f.write(fasta_content)  # Write the FASTA content to the file.\n",
    "\n",
    "        "
   ]
  },
  {
   "cell_type": "code",
   "execution_count": null,
   "metadata": {},
   "outputs": [],
   "source": [
    "save_fasta_sequence_variant(variant_df, VARIANT_FASTA_PATH)# Fetch and save FASTA sequences for variants."
   ]
  },
  {
   "cell_type": "code",
   "execution_count": null,
   "metadata": {},
   "outputs": [],
   "source": [
    "variant_df.head()  # Display the first few rows of the DataFrame."
   ]
  },
  {
   "cell_type": "code",
   "execution_count": null,
   "metadata": {},
   "outputs": [],
   "source": [
    "print(f\"Dataset shape: {variant_df.shape}\")  # Print the dataset's shape.\n",
    "print(f\"Rows: {variant_df.shape[0]}\")  # Print the number of rows.\n",
    "print(f\"Columns: {variant_df.shape[1]}\")  # Print the number of columns."
   ]
  },
  {
   "cell_type": "code",
   "execution_count": null,
   "metadata": {},
   "outputs": [],
   "source": [
    "variant_df.describe() # Display summary statistics."
   ]
  },
  {
   "cell_type": "code",
   "execution_count": null,
   "metadata": {},
   "outputs": [],
   "source": [
    "variant_df.to_csv(f\"{CSV_PATH}fasta_variant.csv\", index=False, sep=';') # Save the updated DataFrame with FASTA sequences to a CSV file."
   ]
  }
 ],
 "metadata": {
  "kernelspec": {
   "display_name": ".venv",
   "language": "python",
   "name": "python3"
  },
  "language_info": {
   "codemirror_mode": {
    "name": "ipython",
    "version": 3
   },
   "file_extension": ".py",
   "mimetype": "text/x-python",
   "name": "python",
   "nbconvert_exporter": "python",
   "pygments_lexer": "ipython3",
   "version": "3.12.5"
  }
 },
 "nbformat": 4,
 "nbformat_minor": 2
}
