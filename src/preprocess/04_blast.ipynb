{
 "cells": [
  {
   "cell_type": "markdown",
   "metadata": {},
   "source": [
    "## Blast"
   ]
  },
  {
   "cell_type": "markdown",
   "metadata": {},
   "source": []
  },
  {
   "cell_type": "markdown",
   "metadata": {},
   "source": [
    "### Generate fasta sequence for BLAST:\n",
    "[blast.ncbi](https://blast.ncbi.nlm.nih.gov/Blast.cgi?PROGRAM=blastp&PAGE_TYPE=BlastSearch&LINK_LOC=blasthome)"
   ]
  },
  {
   "cell_type": "markdown",
   "metadata": {},
   "source": [
    "### Import libraries and load dependencies"
   ]
  },
  {
   "cell_type": "code",
   "execution_count": null,
   "metadata": {},
   "outputs": [],
   "source": [
    "import pandas as pd  # Importing pandas for data manipulation\n",
    "import requests  # Importing requests for making HTTP requests\n",
    "import os  # Importing os for file and directory management\n",
    "from Bio.Blast import NCBIWWW  # Importing NCBIWWW for BLAST operations\n",
    "import re  # Importing re for regular expression operations\n",
    "\n",
    "from pandarallel import pandarallel  # Importing pandarallel for parallel processing\n",
    "pandarallel.initialize(progress_bar=True)  # Initializing pandarallel with a progress bar\n"
   ]
  },
  {
   "cell_type": "markdown",
   "metadata": {},
   "source": [
    "### Define global variables"
   ]
  },
  {
   "cell_type": "code",
   "execution_count": null,
   "metadata": {},
   "outputs": [],
   "source": [
    "CSV_PATH = \"../../data/csv/\"  # Path to the directory containing CSV files\n",
    "PDB_PATH = \"../../data/pdb/blast/\"  # Path to save downloaded PDB files\n",
    "FASTA_PATH = '../../data/fasta/wild'  # Path to the directory containing FASTA files\n",
    "BLAST_PATH = \"../../data/blast\"  # Path to save BLAST results\n"
   ]
  },
  {
   "cell_type": "markdown",
   "metadata": {},
   "source": [
    "### Get models"
   ]
  },
  {
   "cell_type": "code",
   "execution_count": null,
   "metadata": {},
   "outputs": [],
   "source": [
    "wild_df = pd.read_csv(f'{CSV_PATH}fasta_wild.csv', sep=';')  # Reading the CSV file into a DataFrame\n",
    "wild_df.head()  # Displaying the first few rows of the DataFrame\n"
   ]
  },
  {
   "cell_type": "code",
   "execution_count": null,
   "metadata": {},
   "outputs": [],
   "source": [
    "def get_fasta(gene):  # Function to retrieve the FASTA sequence for a given gene\n",
    "        fasta_file = os.path.join(FASTA_PATH, f'{gene}.fasta')  # Constructing the file path for the FASTA file\n",
    "        if os.path.isfile(fasta_file):  # Checking if the file exists\n",
    "            with open(fasta_file, 'r') as file:  # Opening the file in read mode\n",
    "                fasta = file.read()  # Reading the file content\n",
    "                return fasta  # Returning the FASTA sequence\n",
    "        else:\n",
    "            print(f'File {fasta_file} does not exist.')  # Logging a message if the file does not exist\n",
    "\n",
    "wild_df.head()  # Displaying the first few rows of the DataFrame again\n"
   ]
  },
  {
   "cell_type": "code",
   "execution_count": null,
   "metadata": {},
   "outputs": [],
   "source": [
    "fasta_sequences = {}  # Initializing a dictionary to store FASTA sequences\n",
    "filtered_df = wild_df[wild_df['blast'] == 'not_concluded']  # Filtering rows where the blast status is 'not_concluded'\n",
    "for index, row in filtered_df.iterrows():  # Iterating over the filtered rows\n",
    "    gene = row['gene']  # Extracting the gene name\n",
    "    fasta = get_fasta(gene)  # Retrieving the FASTA sequence for the gene\n",
    "    fasta_sequences[gene] = fasta  # Storing the sequence in the dictionary\n",
    "print(fasta_sequences)  # Printing the dictionary of FASTA sequences"
   ]
  },
  {
   "cell_type": "code",
   "execution_count": null,
   "metadata": {},
   "outputs": [],
   "source": [
    "len(fasta_sequences)  # Getting the number of FASTA sequences"
   ]
  },
  {
   "cell_type": "code",
   "execution_count": null,
   "metadata": {},
   "outputs": [],
   "source": [
    "for gene, fasta in fasta_sequences.items():  # Iterating over the FASTA sequences\n",
    "    print(f\"Submitting Sequence from gene {gene} to BLAST...\")  # Logging the BLAST submission\n",
    "    result_handle = NCBIWWW.qblast(\"blastp\", \"pdb\", fasta)  # Submitting the sequence to BLAST (protein to PDB database)\n",
    "\n",
    "    blast_result = result_handle.read()  # Reading the BLAST result\n",
    "    result_handle.close()  # Closing the result handle\n",
    "\n",
    "    pdb_ids = re.findall(r'<Hit_id>pdb\\|(\\w+)\\|', blast_result)  # Extracting PDB IDs from the result using regex\n",
    "    download_successful = False  # Initializing a flag for download success\n",
    "\n",
    "    for pdb_id in pdb_ids:  # Iterating over the extracted PDB IDs\n",
    "        pdb_url = f\"https://files.rcsb.org/download/{pdb_id}.pdb\"  # Constructing the URL for the PDB file\n",
    "        response = requests.get(pdb_url)  # Sending a GET request to download the PDB file\n",
    "\n",
    "        if response.status_code == 200:  # Checking if the download was successful\n",
    "            output_file = os.path.join(PDB_PATH, f\"{gene}.pdb\")  # Constructing the output file path\n",
    "            with open(output_file, \"wb\") as out:  # Opening the file in write-binary mode\n",
    "                out.write(response.content)  # Writing the downloaded content to the file\n",
    "            print(f\"Downloaded {gene}.pdb\")  # Logging the successful download\n",
    "            wild_df.loc[wild_df['gene'] == gene, 'blast'] = 'concluded'  # Updating the blast status in the DataFrame\n",
    "            download_successful = True  # Updating the flag\n",
    "            break  # Exiting the loop after a successful download\n",
    "        else:\n",
    "            print(f\"Failed to download {pdb_id}.pdb for gene {gene}\")  # Logging a failure message\n",
    "\n",
    "    if not download_successful:  # If no PDB file was downloaded successfully\n",
    "        print(f\"Failed to download any PDB file for gene {gene}\")  # Logging a failure message\n",
    "        wild_df.loc[wild_df['gene'] == gene, 'blast'] = 'error'  # Updating the blast status in the DataFrame\n",
    "\n",
    "    output_file = os.path.join(BLAST_PATH, f\"{gene}.xml\")  # Constructing the output file path for the BLAST result\n",
    "    with open(output_file, \"w\") as out:  # Opening the file in write mode\n",
    "        out.write(blast_result)  # Writing the BLAST result to the file\n",
    "\n",
    "print(\"BLAST submissions completed!\")  # Logging the completion of BLAST submissions"
   ]
  },
  {
   "cell_type": "markdown",
   "metadata": {},
   "source": [
    "ERROR on [tlyA, rpsL]\n",
    "\n",
    "For those two cases, we downloaded manually"
   ]
  }
 ],
 "metadata": {
  "kernelspec": {
   "display_name": ".venv",
   "language": "python",
   "name": "python3"
  },
  "language_info": {
   "codemirror_mode": {
    "name": "ipython",
    "version": 3
   },
   "file_extension": ".py",
   "mimetype": "text/x-python",
   "name": "python",
   "nbconvert_exporter": "python",
   "pygments_lexer": "ipython3",
   "version": "3.12.5"
  }
 },
 "nbformat": 4,
 "nbformat_minor": 2
}
