{
 "cells": [
  {
   "cell_type": "markdown",
   "metadata": {},
   "source": [
    "# Format PIR"
   ]
  },
  {
   "cell_type": "markdown",
   "metadata": {},
   "source": [
    "### Import libraries and load dependencies"
   ]
  },
  {
   "cell_type": "code",
   "execution_count": null,
   "metadata": {},
   "outputs": [],
   "source": [
    "import pandas as pd  # Import pandas for data manipulation and analysis\n",
    "import os  # Import os for file and directory operations"
   ]
  },
  {
   "cell_type": "markdown",
   "metadata": {},
   "source": [
    "#### Define global variables"
   ]
  },
  {
   "cell_type": "code",
   "execution_count": null,
   "metadata": {},
   "outputs": [],
   "source": [
    "CSV_PATH = \"../../data/csv/\"  # Path to the directory containing CSV files\n",
    "PDB_PATH = '../../data/pdb/blast'  # Path to the directory containing PDB files\n",
    "PIR_PATH = '../../data/pir'  # Path to the directory for storing generated PIR files"
   ]
  },
  {
   "cell_type": "markdown",
   "metadata": {},
   "source": [
    "### Get info from homolog protein\n"
   ]
  },
  {
   "cell_type": "code",
   "execution_count": null,
   "metadata": {},
   "outputs": [],
   "source": [
    "variant_df = pd.read_csv(f'{CSV_PATH}fasta_variant.csv', sep=';')  # Read variant data from a CSV file\n",
    "variant_df.head()  # Display the first few rows of the DataFrame for verification\n"
   ]
  },
  {
   "cell_type": "code",
   "execution_count": null,
   "metadata": {},
   "outputs": [],
   "source": [
    "# Function to generate PIR-formatted alignment (.ali) files\n",
    "def generate_ali_files(df):\n",
    "    # Iterate over each row in the DataFrame\n",
    "    for index, row in df.iterrows():\n",
    "        gene = row['gene']  # Extract gene name from the current row\n",
    "        variant = row['variant']  # Extract variant name from the current row\n",
    "        target_fasta_content = row['fasta']  # Extract the fasta sequence content from the current row\n",
    "        pdb_file = os.path.join(PDB_PATH, f\"{gene}.pdb\")  # Construct the path to the PDB file for the gene\n",
    "\n",
    "        # Check if the PDB file exists\n",
    "        if os.path.isfile(pdb_file):\n",
    "            # Create the content for the .ali file in PIR format\n",
    "            ali_content = f\"\"\">P1;{variant}\n",
    "sequence:{variant}:::::::0.00: 0.00\n",
    "{target_fasta_content}*\n",
    "\"\"\"\n",
    "            # Define the path for the .ali file\n",
    "            ali_file = os.path.join(PIR_PATH, f\"{variant}.txt\")\n",
    "            # Write the .ali content to the file\n",
    "            with open(ali_file, 'w') as out:\n",
    "                out.write(ali_content)\n",
    "            print(f\"Generated {ali_file}\")  # Notify the user that the file was generated successfully\n",
    "        else:\n",
    "            # Notify the user if the PDB file is missing for the gene\n",
    "            print(f\"PDB file for gene {variant} not found.\")\n"
   ]
  },
  {
   "cell_type": "code",
   "execution_count": null,
   "metadata": {},
   "outputs": [],
   "source": [
    "generate_ali_files(variant_df) # Call the function to generate .ali files using the variant DataFrame"
   ]
  }
 ],
 "metadata": {
  "kernelspec": {
   "display_name": ".venv",
   "language": "python",
   "name": "python3"
  },
  "language_info": {
   "codemirror_mode": {
    "name": "ipython",
    "version": 3
   },
   "file_extension": ".py",
   "mimetype": "text/x-python",
   "name": "python",
   "nbconvert_exporter": "python",
   "pygments_lexer": "ipython3",
   "version": "3.12.5"
  }
 },
 "nbformat": 4,
 "nbformat_minor": 2
}
